{
 "cells": [
  {
   "cell_type": "code",
   "execution_count": 1,
   "metadata": {
    "collapsed": true
   },
   "outputs": [],
   "source": [
    "X = [[1, 2],[2, 3],[3, 4],[4, 5],[5, 6]]"
   ]
  },
  {
   "cell_type": "code",
   "execution_count": 11,
   "metadata": {},
   "outputs": [
    {
     "data": {
      "text/plain": [
       "array([[-1.41421356, -1.41421356],\n",
       "       [-0.70710678, -0.70710678],\n",
       "       [ 0.        ,  0.        ],\n",
       "       [ 0.70710678,  0.70710678],\n",
       "       [ 1.41421356,  1.41421356]])"
      ]
     },
     "execution_count": 11,
     "metadata": {},
     "output_type": "execute_result"
    }
   ],
   "source": [
    "from sklearn.preprocessing import StandardScaler\n",
    "sc = StandardScaler()\n",
    "x_std = sc.fit_transform(X)\n",
    "x_std"
   ]
  },
  {
   "cell_type": "code",
   "execution_count": 36,
   "metadata": {
    "collapsed": true
   },
   "outputs": [],
   "source": [
    "from sklearn import decomposition\n",
    "pca = decomposition.PCA()\n",
    "import time\n",
    "start = time.time()\n",
    "\n",
    "end = time.time()"
   ]
  },
  {
   "cell_type": "code",
   "execution_count": 13,
   "metadata": {},
   "outputs": [
    {
     "data": {
      "text/plain": [
       "array([[  2.00000000e+00,   3.05586644e-16],\n",
       "       [  1.00000000e+00,  -1.01862215e-16],\n",
       "       [ -0.00000000e+00,   0.00000000e+00],\n",
       "       [ -1.00000000e+00,   1.01862215e-16],\n",
       "       [ -2.00000000e+00,   2.03724429e-16]])"
      ]
     },
     "execution_count": 13,
     "metadata": {},
     "output_type": "execute_result"
    }
   ],
   "source": [
    "pca.fit(x_std)\n",
    "pca.explained_variance_\n",
    "pca.n_components = 2\n",
    "x_std_pca = pca.fit_transform(x_std)\n",
    "x_std_pca"
   ]
  },
  {
   "cell_type": "code",
   "execution_count": 15,
   "metadata": {},
   "outputs": [
    {
     "name": "stderr",
     "output_type": "stream",
     "text": [
      "/Users/asingla/anaconda2/envs/py3k/lib/python3.6/site-packages/sklearn/cross_validation.py:44: DeprecationWarning: This module was deprecated in version 0.18 in favor of the model_selection module into which all the refactored classes and functions are moved. Also note that the interface of the new CV iterators are different from that of this module. This module will be removed in 0.20.\n",
      "  \"This module will be removed in 0.20.\", DeprecationWarning)\n"
     ]
    }
   ],
   "source": [
    "from sklearn import datasets, svm, cross_validation"
   ]
  },
  {
   "cell_type": "code",
   "execution_count": 17,
   "metadata": {},
   "outputs": [
    {
     "data": {
      "text/plain": [
       "(569, 30)"
      ]
     },
     "execution_count": 17,
     "metadata": {},
     "output_type": "execute_result"
    }
   ],
   "source": [
    "breast_cancer = datasets.load_breast_cancer()\n",
    "X = breast_cancer.data\n",
    "X.shape"
   ]
  },
  {
   "cell_type": "code",
   "execution_count": 26,
   "metadata": {},
   "outputs": [
    {
     "data": {
      "text/plain": [
       "array([  1.32816077e+01,   5.69135461e+00,   2.81794898e+00,\n",
       "         1.98064047e+00,   1.64873055e+00,   1.20735661e+00,\n",
       "         6.75220114e-01,   4.76617140e-01,   4.16894812e-01,\n",
       "         3.50693457e-01,   2.93915696e-01,   2.61161370e-01,\n",
       "         2.41357496e-01,   1.57009724e-01,   9.41349650e-02,\n",
       "         7.98628010e-02,   5.93990378e-02,   5.26187835e-02,\n",
       "         4.94775918e-02,   3.11594025e-02,   2.99728939e-02,\n",
       "         2.74394025e-02,   2.43408378e-02,   1.80550070e-02,\n",
       "         1.54812714e-02,   8.17763986e-03,   6.90046388e-03,\n",
       "         1.58933787e-03,   7.48803097e-04,   1.33044823e-04])"
      ]
     },
     "execution_count": 26,
     "metadata": {},
     "output_type": "execute_result"
    }
   ],
   "source": [
    "x_std = sc.fit_transform(X)\n",
    "pca = decomposition.PCA()\n",
    "pca.fit(x_std)\n",
    "v = pca.explained_variance_\n",
    "v\n"
   ]
  },
  {
   "cell_type": "code",
   "execution_count": 34,
   "metadata": {},
   "outputs": [
    {
     "data": {
      "text/plain": [
       "(569, 9)"
      ]
     },
     "execution_count": 34,
     "metadata": {},
     "output_type": "execute_result"
    }
   ],
   "source": [
    "total = v.sum()\n",
    "i = 0\n",
    "sum = 0\n",
    "while i < v.shape[0] :\n",
    "    sum = sum + v[i]\n",
    "    if sum/total > 0.95 :\n",
    "        break\n",
    "    i = i + 1\n",
    "pca.n_components = i\n",
    "x_pca = pca.fit_transform(x_std)\n",
    "x_pca.shape"
   ]
  },
  {
   "cell_type": "code",
   "execution_count": 47,
   "metadata": {},
   "outputs": [
    {
     "name": "stdout",
     "output_type": "stream",
     "text": [
      "0.973684210526\n"
     ]
    },
    {
     "data": {
      "text/plain": [
       "0.005360841751098633"
      ]
     },
     "execution_count": 47,
     "metadata": {},
     "output_type": "execute_result"
    }
   ],
   "source": [
    "start = time.time()\n",
    "svc = svm.SVC()\n",
    "X_train, X_test, Y_train, Y_test = cross_validation.train_test_split(x_std, breast_cancer.target, test_size = 0.2)\n",
    "svc.fit(X_train, Y_train)\n",
    "print(svc.score(X_test, Y_test))\n",
    "end = time.time()\n",
    "end - start"
   ]
  },
  {
   "cell_type": "code",
   "execution_count": 45,
   "metadata": {},
   "outputs": [
    {
     "name": "stdout",
     "output_type": "stream",
     "text": [
      "0.991228070175\n"
     ]
    },
    {
     "data": {
      "text/plain": [
       "0.005832195281982422"
      ]
     },
     "execution_count": 45,
     "metadata": {},
     "output_type": "execute_result"
    }
   ],
   "source": [
    "start = time.time()\n",
    "svc = svm.SVC()\n",
    "X_train, X_test, Y_train, Y_test = cross_validation.train_test_split(x_pca, breast_cancer.target, test_size = 0.2)\n",
    "svc.fit(X_train, Y_train)\n",
    "print(svc.score(X_test, Y_test))\n",
    "end = time.time()\n",
    "end - start"
   ]
  },
  {
   "cell_type": "code",
   "execution_count": null,
   "metadata": {
    "collapsed": true
   },
   "outputs": [],
   "source": []
  },
  {
   "cell_type": "code",
   "execution_count": null,
   "metadata": {
    "collapsed": true
   },
   "outputs": [],
   "source": []
  },
  {
   "cell_type": "code",
   "execution_count": null,
   "metadata": {
    "collapsed": true
   },
   "outputs": [],
   "source": []
  },
  {
   "cell_type": "code",
   "execution_count": null,
   "metadata": {
    "collapsed": true
   },
   "outputs": [],
   "source": []
  },
  {
   "cell_type": "code",
   "execution_count": null,
   "metadata": {
    "collapsed": true
   },
   "outputs": [],
   "source": []
  }
 ],
 "metadata": {
  "kernelspec": {
   "display_name": "Python 3",
   "language": "python",
   "name": "python3"
  },
  "language_info": {
   "codemirror_mode": {
    "name": "ipython",
    "version": 3
   },
   "file_extension": ".py",
   "mimetype": "text/x-python",
   "name": "python",
   "nbconvert_exporter": "python",
   "pygments_lexer": "ipython3",
   "version": "3.6.1"
  }
 },
 "nbformat": 4,
 "nbformat_minor": 1
}
