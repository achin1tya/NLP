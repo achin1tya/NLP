{
 "cells": [
  {
   "cell_type": "code",
   "execution_count": 1,
   "metadata": {
    "collapsed": true
   },
   "outputs": [],
   "source": [
    "from nltk.tokenize import sent_tokenize, word_tokenize"
   ]
  },
  {
   "cell_type": "code",
   "execution_count": 2,
   "metadata": {
    "collapsed": true
   },
   "outputs": [],
   "source": [
    "SAMPLE_TEXT = \"This is an example text? Let's see how it works.\""
   ]
  },
  {
   "cell_type": "code",
   "execution_count": 3,
   "metadata": {},
   "outputs": [
    {
     "data": {
      "text/plain": [
       "['This is an example text?', \"Let's see how it works.\"]"
      ]
     },
     "execution_count": 3,
     "metadata": {},
     "output_type": "execute_result"
    }
   ],
   "source": [
    "sent_tokenize(SAMPLE_TEXT)"
   ]
  },
  {
   "cell_type": "code",
   "execution_count": 4,
   "metadata": {
    "collapsed": true
   },
   "outputs": [],
   "source": [
    "words = word_tokenize(SAMPLE_TEXT)"
   ]
  },
  {
   "cell_type": "code",
   "execution_count": 5,
   "metadata": {
    "collapsed": true
   },
   "outputs": [],
   "source": [
    "from nltk.corpus import stopwords"
   ]
  },
  {
   "cell_type": "code",
   "execution_count": 6,
   "metadata": {
    "collapsed": true
   },
   "outputs": [],
   "source": [
    "stops = set(stopwords.words('english'))"
   ]
  },
  {
   "cell_type": "code",
   "execution_count": 7,
   "metadata": {},
   "outputs": [
    {
     "data": {
      "text/plain": [
       "{'a',\n",
       " 'about',\n",
       " 'above',\n",
       " 'after',\n",
       " 'again',\n",
       " 'against',\n",
       " 'ain',\n",
       " 'all',\n",
       " 'am',\n",
       " 'an',\n",
       " 'and',\n",
       " 'any',\n",
       " 'are',\n",
       " 'aren',\n",
       " 'as',\n",
       " 'at',\n",
       " 'be',\n",
       " 'because',\n",
       " 'been',\n",
       " 'before',\n",
       " 'being',\n",
       " 'below',\n",
       " 'between',\n",
       " 'both',\n",
       " 'but',\n",
       " 'by',\n",
       " 'can',\n",
       " 'couldn',\n",
       " 'd',\n",
       " 'did',\n",
       " 'didn',\n",
       " 'do',\n",
       " 'does',\n",
       " 'doesn',\n",
       " 'doing',\n",
       " 'don',\n",
       " 'down',\n",
       " 'during',\n",
       " 'each',\n",
       " 'few',\n",
       " 'for',\n",
       " 'from',\n",
       " 'further',\n",
       " 'had',\n",
       " 'hadn',\n",
       " 'has',\n",
       " 'hasn',\n",
       " 'have',\n",
       " 'haven',\n",
       " 'having',\n",
       " 'he',\n",
       " 'her',\n",
       " 'here',\n",
       " 'hers',\n",
       " 'herself',\n",
       " 'him',\n",
       " 'himself',\n",
       " 'his',\n",
       " 'how',\n",
       " 'i',\n",
       " 'if',\n",
       " 'in',\n",
       " 'into',\n",
       " 'is',\n",
       " 'isn',\n",
       " 'it',\n",
       " 'its',\n",
       " 'itself',\n",
       " 'just',\n",
       " 'll',\n",
       " 'm',\n",
       " 'ma',\n",
       " 'me',\n",
       " 'mightn',\n",
       " 'more',\n",
       " 'most',\n",
       " 'mustn',\n",
       " 'my',\n",
       " 'myself',\n",
       " 'needn',\n",
       " 'no',\n",
       " 'nor',\n",
       " 'not',\n",
       " 'now',\n",
       " 'o',\n",
       " 'of',\n",
       " 'off',\n",
       " 'on',\n",
       " 'once',\n",
       " 'only',\n",
       " 'or',\n",
       " 'other',\n",
       " 'our',\n",
       " 'ours',\n",
       " 'ourselves',\n",
       " 'out',\n",
       " 'over',\n",
       " 'own',\n",
       " 're',\n",
       " 's',\n",
       " 'same',\n",
       " 'shan',\n",
       " 'she',\n",
       " 'should',\n",
       " 'shouldn',\n",
       " 'so',\n",
       " 'some',\n",
       " 'such',\n",
       " 't',\n",
       " 'than',\n",
       " 'that',\n",
       " 'the',\n",
       " 'their',\n",
       " 'theirs',\n",
       " 'them',\n",
       " 'themselves',\n",
       " 'then',\n",
       " 'there',\n",
       " 'these',\n",
       " 'they',\n",
       " 'this',\n",
       " 'those',\n",
       " 'through',\n",
       " 'to',\n",
       " 'too',\n",
       " 'under',\n",
       " 'until',\n",
       " 'up',\n",
       " 've',\n",
       " 'very',\n",
       " 'was',\n",
       " 'wasn',\n",
       " 'we',\n",
       " 'were',\n",
       " 'weren',\n",
       " 'what',\n",
       " 'when',\n",
       " 'where',\n",
       " 'which',\n",
       " 'while',\n",
       " 'who',\n",
       " 'whom',\n",
       " 'why',\n",
       " 'will',\n",
       " 'with',\n",
       " 'won',\n",
       " 'wouldn',\n",
       " 'y',\n",
       " 'you',\n",
       " 'your',\n",
       " 'yours',\n",
       " 'yourself',\n",
       " 'yourselves'}"
      ]
     },
     "execution_count": 7,
     "metadata": {},
     "output_type": "execute_result"
    }
   ],
   "source": [
    "stops"
   ]
  },
  {
   "cell_type": "code",
   "execution_count": 8,
   "metadata": {
    "collapsed": true
   },
   "outputs": [],
   "source": [
    "lower_text = SAMPLE_TEXT.lower()\n",
    "lower_text = word_tokenize(lower_text)"
   ]
  },
  {
   "cell_type": "code",
   "execution_count": 9,
   "metadata": {
    "collapsed": true
   },
   "outputs": [],
   "source": [
    "clean_wrods = [w for w in lower_text if not w in stops]"
   ]
  },
  {
   "cell_type": "code",
   "execution_count": 10,
   "metadata": {},
   "outputs": [
    {
     "data": {
      "text/plain": [
       "['example', 'text', '?', 'let', \"'s\", 'see', 'works', '.']"
      ]
     },
     "execution_count": 10,
     "metadata": {},
     "output_type": "execute_result"
    }
   ],
   "source": [
    "clean_wrods"
   ]
  },
  {
   "cell_type": "markdown",
   "metadata": {},
   "source": [
    "stem_words"
   ]
  },
  {
   "cell_type": "code",
   "execution_count": 11,
   "metadata": {},
   "outputs": [
    {
     "name": "stdout",
     "output_type": "stream",
     "text": [
      "play\n",
      "play\n",
      "play\n",
      "player\n"
     ]
    }
   ],
   "source": [
    "stem_words = [\"play\", \"played\", \"playing\", \"player\"]\n",
    "from nltk.stem import  PorterStemmer\n",
    "ps = PorterStemmer()\n",
    "for w in stem_words:\n",
    "    print(ps.stem(w))"
   ]
  },
  {
   "cell_type": "code",
   "execution_count": 12,
   "metadata": {},
   "outputs": [
    {
     "name": "stdout",
     "output_type": "stream",
     "text": [
      "imperfect\n",
      "perfect\n"
     ]
    }
   ],
   "source": [
    "words = [\"imperfect\", \"perfect\"]\n",
    "ps = PorterStemmer()\n",
    "for w in words:\n",
    "    print(ps.stem(w))"
   ]
  },
  {
   "cell_type": "code",
   "execution_count": 13,
   "metadata": {
    "collapsed": true
   },
   "outputs": [],
   "source": [
    "from nltk import pos_tag\n",
    "from nltk.corpus import state_union"
   ]
  },
  {
   "cell_type": "code",
   "execution_count": 14,
   "metadata": {
    "collapsed": true
   },
   "outputs": [],
   "source": [
    "text = state_union.raw(\"2006-GWBush.txt\")"
   ]
  },
  {
   "cell_type": "code",
   "execution_count": 15,
   "metadata": {},
   "outputs": [
    {
     "data": {
      "text/plain": [
       "'PRESIDENT GEORGE W. BUSH\\'S ADDRESS BEFORE A JOINT SESSION OF THE CONGRESS ON THE STATE OF THE UNION\\n \\nJanuary 31, 2006\\n\\nTHE PRESIDENT: Thank you all. Mr. Speaker, Vice President Cheney, members of Congress, members of the Supreme Court and diplomatic corps, distinguished guests, and fellow citizens: Today our nation lost a beloved, graceful, courageous woman who called America to its founding ideals and carried on a noble dream. Tonight we are comforted by the hope of a glad reunion with the husband who was taken so long ago, and we are grateful for the good life of Coretta Scott King. (Applause.)\\n\\nPresident George W. Bush reacts to applause during his State of the Union Address at the Capitol, Tuesday, Jan. 31, 2006. White House photo by Eric DraperEvery time I\\'m invited to this rostrum, I\\'m humbled by the privilege, and mindful of the history we\\'ve seen together. We have gathered under this Capitol dome in moments of national mourning and national achievement. We have served America through one of the most consequential periods of our history -- and it has been my honor to serve with you.\\n\\nIn a system of two parties, two chambers, and two elected branches, there will always be differences and debate. But even tough debates can be conducted in a civil tone, and our differences cannot be allowed to harden into anger. To confront the great issues before us, we must act in a spirit of goodwill and respect for one another -- and I will do my part. Tonight the state of our Union is strong -- and together we will make it stronger. (Applause.)\\n\\nIn this decisive year, you and I will make choices that determine both the future and the character of our country. We will choose to act confidently in pursuing the enemies of freedom -- or retreat from our duties in the hope of an easier life. We will choose to build our prosperity by leading the world economy -- or shut ourselves off from trade and opportunity. In a complex and challenging time, the road of isolationism and protectionism may seem broad and inviting -- yet it ends in danger and decline. The only way to protect our people, the only way to secure the peace, the only way to control our destiny is by our leadership -- so the United States of America will continue to lead. (Applause.)\\n\\nAbroad, our nation is committed to an historic, long-term goal -- we seek the end of tyranny in our world. Some dismiss that goal as misguided idealism. In reality, the future security of America depends on it. On September the 11th, 2001, we found that problems originating in a failed and oppressive state 7,000 miles away could bring murder and destruction to our country. Dictatorships shelter terrorists, and feed resentment and radicalism, and seek weapons of mass destruction. Democracies replace resentment with hope, respect the rights of their citizens and their neighbors, and join the fight against terror. Every step toward freedom in the world makes our country safer -- so we will act boldly in freedom\\'s cause. (Applause.)\\n\\nFar from being a hopeless dream, the advance of freedom is the great story of our time. In 1945, there were about two dozen lonely democracies in the world. Today, there are 122. And we\\'re writing a new chapter in the story of self-government -- with women lining up to vote in Afghanistan, and millions of Iraqis marking their liberty with purple ink, and men and women from Lebanon to Egypt debating the rights of individuals and the necessity of freedom. At the start of 2006, more than half the people of our world live in democratic nations. And we do not forget the other half -- in places like Syria and Burma, Zimbabwe, North Korea, and Iran -- because the demands of justice, and the peace of this world, require their freedom, as well. (Applause.)\\n\\nPresident George W. Bush delivers his State of the Union Address at the Capitol, Tuesday, Jan. 31, 2006. White House photo by Eric Draper No one can deny the success of freedom, but some men rage and fight against it. And one of the main sources of reaction and opposition is radical Islam -- the perversion by a few of a noble faith into an ideology of terror and death. Terrorists like bin Laden are serious about mass murder -- and all of us must take their declared intentions seriously. They seek to impose a heartless system of totalitarian control throughout the Middle East, and arm themselves with weapons of mass murder.\\n\\nTheir aim is to seize power in Iraq, and use it as a safe haven to launch attacks against America and the world. Lacking the military strength to challenge us directly, the terrorists have chosen the weapon of fear. When they murder children at a school in Beslan, or blow up commuters in London, or behead a bound captive, the terrorists hope these horrors will break our will, allowing the violent to inherit the Earth. But they have miscalculated: We love our freedom, and we will fight to keep it. (Applause.)\\n\\nIn a time of testing, we cannot find security by abandoning our commitments and retreating within our borders. If we were to leave these vicious attackers alone, they would not leave us alone. They would simply move the battlefield to our own shores. There is no peace in retreat. And there is no honor in retreat. By allowing radical Islam to work its will -- by leaving an assaulted world to fend for itself -- we would signal to all that we no longer believe in our own ideals, or even in our own courage. But our enemies and our friends can be certain: The United States will not retreat from the world, and we will never surrender to evil. (Applause.)\\n\\nAmerica rejects the false comfort of isolationism. We are the nation that saved liberty in Europe, and liberated death camps, and helped raise up democracies, and faced down an evil empire. Once again, we accept the call of history to deliver the oppressed and move this world toward peace. We remain on the offensive against terror networks. We have killed or captured many of their leaders -- and for the others, their day will come.\\n\\nPresident George W. Bush greets members of Congress after his State of the Union Address at the Capitol, Tuesday, Jan. 31, 2006. White House photo by Eric Draper We remain on the offensive in Afghanistan, where a fine President and a National Assembly are fighting terror while building the institutions of a new democracy. We\\'re on the offensive in Iraq, with a clear plan for victory. First, we\\'re helping Iraqis build an inclusive government, so that old resentments will be eased and the insurgency will be marginalized.\\n\\nSecond, we\\'re continuing reconstruction efforts, and helping the Iraqi government to fight corruption and build a modern economy, so all Iraqis can experience the benefits of freedom. And, third, we\\'re striking terrorist targets while we train Iraqi forces that are increasingly capable of defeating the enemy. Iraqis are showing their courage every day, and we are proud to be their allies in the cause of freedom. (Applause.)\\n\\nOur work in Iraq is difficult because our enemy is brutal. But that brutality has not stopped the dramatic progress of a new democracy. In less than three years, the nation has gone from dictatorship to liberation, to sovereignty, to a constitution, to national elections. At the same time, our coalition has been relentless in shutting off terrorist infiltration, clearing out insurgent strongholds, and turning over territory to Iraqi security forces. I am confident in our plan for victory; I am confident in the will of the Iraqi people; I am confident in the skill and spirit of our military. Fellow citizens, we are in this fight to win, and we are winning. (Applause.)\\n\\nThe road of victory is the road that will take our troops home. As we make progress on the ground, and Iraqi forces increasingly take the lead, we should be able to further decrease our troop levels -- but those decisions will be made by our military commanders, not by politicians in Washington, D.C. (Applause.)\\n\\nOur coalition has learned from our experience in Iraq. We\\'ve adjusted our military tactics and changed our approach to reconstruction. Along the way, we have benefitted from responsible criticism and counsel offered by members of Congress of both parties. In the coming year, I will continue to reach out and seek your good advice. Yet, there is a difference between responsible criticism that aims for success, and defeatism that refuses to acknowledge anything but failure. (Applause.) Hindsight alone is not wisdom, and second-guessing is not a strategy. (Applause.)\\n\\nWith so much in the balance, those of us in public office have a duty to speak with candor. A sudden withdrawal of our forces from Iraq would abandon our Iraqi allies to death and prison, would put men like bin Laden and Zarqawi in charge of a strategic country, and show that a pledge from America means little. Members of Congress, however we feel about the decisions and debates of the past, our nation has only one option: We must keep our word, defeat our enemies, and stand behind the American military in this vital mission. (Applause.)\\n\\nLaura Bush is applauded as she is introduced Tuesday evening, Jan. 31, 2006 during the State of the Union Address at United States Capitol in Washington. White House photo by Eric Draper Our men and women in uniform are making sacrifices -- and showing a sense of duty stronger than all fear. They know what it\\'s like to fight house to house in a maze of streets, to wear heavy gear in the desert heat, to see a comrade killed by a roadside bomb. And those who know the costs also know the stakes. Marine Staff Sergeant Dan Clay was killed last month fighting in Fallujah. He left behind a letter to his family, but his words could just as well be addressed to every American. Here is what Dan wrote: \"I know what honor is. ... It has been an honor to protect and serve all of you. I faced death with the secure knowledge that you would not have to.... Never falter! Don\\'t hesitate to honor and support those of us who have the honor of protecting that which is worth protecting.\"\\n\\nStaff Sergeant Dan Clay\\'s wife, Lisa, and his mom and dad, Sara Jo and Bud, are with us this evening. Welcome. (Applause.)\\n\\nOur nation is grateful to the fallen, who live in the memory of our country. We\\'re grateful to all who volunteer to wear our nation\\'s uniform -- and as we honor our brave troops, let us never forget the sacrifices of America\\'s military families. (Applause.)\\n\\nOur offensive against terror involves more than military action. Ultimately, the only way to defeat the terrorists is to defeat their dark vision of hatred and fear by offering the hopeful alternative of political freedom and peaceful change. So the United States of America supports democratic reform across the broader Middle East. Elections are vital, but they are only the beginning. Raising up a democracy requires the rule of law, and protection of minorities, and strong, accountable institutions that last longer than a single vote.\\n\\nThe great people of Egypt have voted in a multi-party presidential election -- and now their government should open paths of peaceful opposition that will reduce the appeal of radicalism. The Palestinian people have voted in elections. And now the leaders of Hamas must recognize Israel, disarm, reject terrorism, and work for lasting peace. (Applause.) Saudi Arabia has taken the first steps of reform -- now it can offer its people a better future by pressing forward with those efforts. Democracies in the Middle East will not look like our own, because they will reflect the traditions of their own citizens. Yet liberty is the future of every nation in the Middle East, because liberty is the right and hope of all humanity. (Applause.)\\n\\nPresident George W. Bush waves toward the upper visitors gallery of the House Chamber following his State of the Union remarks Tuesday, Jan. 31, 2006 at the United States Capitol. White House photo by Eric Draper The same is true of Iran, a nation now held hostage by a small clerical elite that is isolating and repressing its people. The regime in that country sponsors terrorists in the Palestinian territories and in Lebanon -- and that must come to an end. (Applause.) The Iranian government is defying the world with its nuclear ambitions, and the nations of the world must not permit the Iranian regime to gain nuclear weapons. (Applause.) America will continue to rally the world to confront these threats.\\n\\nTonight, let me speak directly to the citizens of Iran: America respects you, and we respect your country. We respect your right to choose your own future and win your own freedom. And our nation hopes one day to be the closest of friends with a free and democratic Iran. (Applause.)\\n\\nTo overcome dangers in our world, we must also take the offensive by encouraging economic progress, and fighting disease, and spreading hope in hopeless lands. Isolationism would not only tie our hands in fighting enemies, it would keep us from helping our friends in desperate need. We show compassion abroad because Americans believe in the God-given dignity and worth of a villager with HIV/AIDS, or an infant with malaria, or a refugee fleeing genocide, or a young girl sold into slavery. We also show compassion abroad because regions overwhelmed by poverty, corruption, and despair are sources of terrorism, and organized crime, and human trafficking, and the drug trade.\\n\\nIn recent years, you and I have taken unprecedented action to fight AIDS and malaria, expand the education of girls, and reward developing nations that are moving forward with economic and political reform. For people everywhere, the United States is a partner for a better life. Short-changing these efforts would increase the suffering and chaos of our world, undercut our long-term security, and dull the conscience of our country. I urge members of Congress to serve the interests of America by showing the compassion of America.\\n\\nOur country must also remain on the offensive against terrorism here at home. The enemy has not lost the desire or capability to attack us. Fortunately, this nation has superb professionals in law enforcement, intelligence, the military, and homeland security. These men and women are dedicating their lives, protecting us all, and they deserve our support and our thanks. (Applause.) They also deserve the same tools they already use to fight drug trafficking and organized crime -- so I ask you to reauthorize the Patriot Act. (Applause.)\\n\\nIt is said that prior to the attacks of September the 11th, our government failed to connect the dots of the conspiracy. We now know that two of the hijackers in the United States placed telephone calls to al Qaeda operatives overseas. But we did not know about their plans until it was too late. So to prevent another attack -- based on authority given to me by the Constitution and by statute -- I have authorized a terrorist surveillance program to aggressively pursue the international communications of suspected al Qaeda operatives and affiliates to and from America. Previous Presidents have used the same constitutional authority I have, and federal courts have approved the use of that authority. Appropriate members of Congress have been kept informed. The terrorist surveillance program has helped prevent terrorist attacks. It remains essential to the security of America. If there are people inside our country who are talking with al Qaeda, we want to know about it, because we will not sit back and wait to be hit again. (Applause.)\\n\\nIn all these areas -- from the disruption of terror networks, to victory in Iraq, to the spread of freedom and hope in troubled regions -- we need the support of our friends and allies. To draw that support, we must always be clear in our principles and willing to act. The only alternative to American leadership is a dramatically more dangerous and anxious world. Yet we also choose to lead because it is a privilege to serve the values that gave us birth. American leaders -- from Roosevelt to Truman to Kennedy to Reagan -- rejected isolation and retreat, because they knew that America is always more secure when freedom is on the march.\\n\\nOur own generation is in a long war against a determined enemy -- a war that will be fought by Presidents of both parties, who will need steady bipartisan support from the Congress. And tonight I ask for yours. Together, let us protect our country, support the men and women who defend us, and lead this world toward freedom. (Applause.)\\n\\nHere at home, America also has a great opportunity: We will build the prosperity of our country by strengthening our economic leadership in the world.\\n\\nOur economy is healthy and vigorous, and growing faster than other major industrialized nations. In the last two-and-a-half years, America has created 4.6 million new jobs -- more than Japan and the European Union combined. (Applause.) Even in the face of higher energy prices and natural disasters, the American people have turned in an economic performance that is the envy of the world.\\n\\nThe American economy is preeminent, but we cannot afford to be complacent. In a dynamic world economy, we are seeing new competitors, like China and India, and this creates uncertainty, which makes it easier to feed people\\'s fears. So we\\'re seeing some old temptations return. Protectionists want to escape competition, pretending that we can keep our high standard of living while walling off our economy. Others say that the government needs to take a larger role in directing the economy, centralizing more power in Washington and increasing taxes. We hear claims that immigrants are somehow bad for the economy -- even though this economy could not function without them. (Applause.) All these are forms of economic retreat, and they lead in the same direction -- toward a stagnant and second-rate economy.\\n\\nTonight I will set out a better path: an agenda for a nation that competes with confidence; an agenda that will raise standards of living and generate new jobs. Americans should not fear our economic future, because we intend to shape it.\\n\\nKeeping America competitive begins with keeping our economy growing. And our economy grows when Americans have more of their own money to spend, save, and invest. In the last five years, the tax relief you passed has left $880 billion in the hands of American workers, investors, small businesses, and families -- and they have used it to help produce more than four years of uninterrupted economic growth. (Applause.) Yet the tax relief is set to expire in the next few years. If we do nothing, American families will face a massive tax increase they do not expect and will not welcome. Because America needs more than a temporary expansion, we need more than temporary tax relief. I urge the Congress to act responsibly, and make the tax cuts permanent. (Applause.)\\n\\nKeeping America competitive requires us to be good stewards of tax dollars. Every year of my presidency, we\\'ve reduced the growth of non-security discretionary spending, and last year you passed bills that cut this spending. This year my budget will cut it again, and reduce or eliminate more than 140 programs that are performing poorly or not fulfilling essential priorities. By passing these reforms, we will save the American taxpayer another $14 billion next year, and stay on track to cut the deficit in half by 2009. (Applause.)\\n\\nI am pleased that members of Congress are working on earmark reform, because the federal budget has too many special interest projects. (Applause.) And we can tackle this problem together, if you pass the line-item veto. (Applause.)\\n\\nWe must also confront the larger challenge of mandatory spending, or entitlements. This year, the first of about 78 million baby boomers turn 60, including two of my Dad\\'s favorite people -- me and President Clinton. (Laughter.) This milestone is more than a personal crisis -- (laughter) -- it is a national challenge. The retirement of the baby boom generation will put unprecedented strains on the federal government. By 2030, spending for Social Security, Medicare and Medicaid alone will be almost 60 percent of the entire federal budget. And that will present future Congresses with impossible choices -- staggering tax increases, immense deficits, or deep cuts in every category of spending. Congress did not act last year on my proposal to save Social Security -- (applause) -- yet the rising cost of entitlements is a problem that is not going away. (Applause.) And every year we fail to act, the situation gets worse.\\n\\nSo tonight, I ask you to join me in creating a commission to examine the full impact of baby boom retirements on Social Security, Medicare, and Medicaid. This commission should include members of Congress of both parties, and offer bipartisan solutions. We need to put aside partisan politics and work together and get this problem solved. (Applause.)\\n\\nKeeping America competitive requires us to open more markets for all that Americans make and grow. One out of every five factory jobs in America is related to global trade, and we want people everywhere to buy American. With open markets and a level playing field, no one can out-produce or out-compete the American worker. (Applause.)\\n\\nKeeping America competitive requires an immigration system that upholds our laws, reflects our values, and serves the interests of our economy. Our nation needs orderly and secure borders. (Applause.) To meet this goal, we must have stronger immigration enforcement and border protection. (Applause.) And we must have a rational, humane guest worker program that rejects amnesty, allows temporary jobs for people who seek them legally, and reduces smuggling and crime at the border. (Applause.)\\n\\nKeeping America competitive requires affordable health care. (Applause.) Our government has a responsibility to provide health care for the poor and the elderly, and we are meeting that responsibility. (Applause.) For all Americans -- for all Americans, we must confront the rising cost of care, strengthen the doctor-patient relationship, and help people afford the insurance coverage they need. (Applause.)\\n\\nWe will make wider use of electronic records and other health information technology, to help control costs and reduce dangerous medical errors. We will strengthen health savings accounts -- making sure individuals and small business employees can buy insurance with the same advantages that people working for big businesses now get. (Applause.) We will do more to make this coverage portable, so workers can switch jobs without having to worry about losing their health insurance. (Applause.) And because lawsuits are driving many good doctors out of practice -- leaving women in nearly 1,500 American counties without a single OB/GYN -- I ask the Congress to pass medical liability reform this year. (Applause.)\\n\\nKeeping America competitive requires affordable energy. And here we have a serious problem: America is addicted to oil, which is often imported from unstable parts of the world. The best way to break this addiction is through technology. Since 2001, we have spent nearly $10 billion to develop cleaner, cheaper, and more reliable alternative energy sources -- and we are on the threshold of incredible advances.\\n\\nSo tonight, I announce the Advanced Energy Initiative -- a 22-percent increase in clean-energy research -- at the Department of Energy, to push for breakthroughs in two vital areas. To change how we power our homes and offices, we will invest more in zero-emission coal-fired plants, revolutionary solar and wind technologies, and clean, safe nuclear energy. (Applause.)\\n\\nWe must also change how we power our automobiles. We will increase our research in better batteries for hybrid and electric cars, and in pollution-free cars that run on hydrogen. We\\'ll also fund additional research in cutting-edge methods of producing ethanol, not just from corn, but from wood chips and stalks, or switch grass. Our goal is to make this new kind of ethanol practical and competitive within six years. (Applause.)\\n\\nBreakthroughs on this and other new technologies will help us reach another great goal: to replace more than 75 percent of our oil imports from the Middle East by 2025. (Applause.) By applying the talent and technology of America, this country can dramatically improve our environment, move beyond a petroleum-based economy, and make our dependence on Middle Eastern oil a thing of the past. (Applause.)\\n\\nAnd to keep America competitive, one commitment is necessary above all: We must continue to lead the world in human talent and creativity. Our greatest advantage in the world has always been our educated, hardworking, ambitious people -- and we\\'re going to keep that edge. Tonight I announce an American Competitiveness Initiative, to encourage innovation throughout our economy, and to give our nation\\'s children a firm grounding in math and science. (Applause.)\\n\\nFirst, I propose to double the federal commitment to the most critical basic research programs in the physical sciences over the next 10 years. This funding will support the work of America\\'s most creative minds as they explore promising areas such as nanotechnology, supercomputing, and alternative energy sources.\\n\\nSecond, I propose to make permanent the research and development tax credit -- (applause) -- to encourage bolder private-sector initiatives in technology. With more research in both the public and private sectors, we will improve our quality of life -- and ensure that America will lead the world in opportunity and innovation for decades to come. (Applause.)\\n\\nThird, we need to encourage children to take more math and science, and to make sure those courses are rigorous enough to compete with other nations. We\\'ve made a good start in the early grades with the No Child Left Behind Act, which is raising standards and lifting test scores across our country. Tonight I propose to train 70,000 high school teachers to lead advanced-placement courses in math and science, bring 30,000 math and science professionals to teach in classrooms, and give early help to students who struggle with math, so they have a better chance at good, high-wage jobs. If we ensure that America\\'s children succeed in life, they will ensure that America succeeds in the world. (Applause.)\\n\\nPreparing our nation to compete in the world is a goal that all of us can share. I urge you to support the American Competitiveness Initiative, and together we will show the world what the American people can achieve.\\n\\nAmerica is a great force for freedom and prosperity. Yet our greatness is not measured in power or luxuries, but by who we are and how we treat one another. So we strive to be a compassionate, decent, hopeful society.\\n\\nIn recent years, America has become a more hopeful nation. Violent crime rates have fallen to their lowest levels since the 1970s. Welfare cases have dropped by more than half over the past decade. Drug use among youth is down 19 percent since 2001. There are fewer abortions in America than at any point in the last three decades, and the number of children born to teenage mothers has been falling for a dozen years in a row. (Applause.)\\n\\nThese gains are evidence of a quiet transformation -- a revolution of conscience, in which a rising generation is finding that a life of personal responsibility is a life of fulfillment. Government has played a role. Wise policies, such as welfare reform and drug education and support for abstinence and adoption have made a difference in the character of our country. And everyone here tonight, Democrat and Republican, has a right to be proud of this record. (Applause.)\\n\\nYet many Americans, especially parents, still have deep concerns about the direction of our culture, and the health of our most basic institutions. They\\'re concerned about unethical conduct by public officials, and discouraged by activist courts that try to redefine marriage. They worry about children in our society who need direction and love, and about fellow citizens still displaced by natural disaster, and about suffering caused by treatable diseases.\\n\\nAs we look at these challenges, we must never give in to the belief that America is in decline, or that our culture is doomed to unravel. The American people know better than that. We have proven the pessimists wrong before -- and we will do it again. (Applause.)\\n\\nA hopeful society depends on courts that deliver equal justice under the law. The Supreme Court now has two superb new members -- new members on its bench: Chief Justice John Roberts and Justice Sam Alito. (Applause.) I thank the Senate for confirming both of them. I will continue to nominate men and women who understand that judges must be servants of the law, and not legislate from the bench. (Applause.)\\n\\nToday marks the official retirement of a very special American. For 24 years of faithful service to our nation, the United States is grateful to Justice Sandra Day O\\'Connor. (Applause.)\\n\\nA hopeful society has institutions of science and medicine that do not cut ethical corners, and that recognize the matchless value of every life. Tonight I ask you to pass legislation to prohibit the most egregious abuses of medical research: human cloning in all its forms, creating or implanting embryos for experiments, creating human-animal hybrids, and buying, selling, or patenting human embryos. Human life is a gift from our Creator -- and that gift should never be discarded, devalued or put up for sale. (Applause.)\\n\\nA hopeful society expects elected officials to uphold the public trust. (Applause.) Honorable people in both parties are working on reforms to strengthen the ethical standards of Washington -- I support your efforts. Each of us has made a pledge to be worthy of public responsibility -- and that is a pledge we must never forget, never dismiss, and never betray. (Applause.)\\n\\nAs we renew the promise of our institutions, let us also show the character of America in our compassion and care for one another.\\n\\nA hopeful society gives special attention to children who lack direction and love. Through the Helping America\\'s Youth Initiative, we are encouraging caring adults to get involved in the life of a child -- and this good work is being led by our First Lady, Laura Bush. (Applause.) This year we will add resources to encourage young people to stay in school, so more of America\\'s youth can raise their sights and achieve their dreams.\\n\\nA hopeful society comes to the aid of fellow citizens in times of suffering and emergency -- and stays at it until they\\'re back on their feet. So far the federal government has committed $85 billion to the people of the Gulf Coast and New Orleans. We\\'re removing debris and repairing highways and rebuilding stronger levees. We\\'re providing business loans and housing assistance. Yet as we meet these immediate needs, we must also address deeper challenges that existed before the storm arrived.\\n\\nIn New Orleans and in other places, many of our fellow citizens have felt excluded from the promise of our country. The answer is not only temporary relief, but schools that teach every child, and job skills that bring upward mobility, and more opportunities to own a home and start a business. As we recover from a disaster, let us also work for the day when all Americans are protected by justice, equal in hope, and rich in opportunity. (Applause.)\\n\\nA hopeful society acts boldly to fight diseases like HIV/AIDS, which can be prevented, and treated, and defeated. More than a million Americans live with HIV, and half of all AIDS cases occur among African Americans. I ask Congress to reform and reauthorize the Ryan White Act, and provide new funding to states, so we end the waiting lists for AIDS medicines in America. (Applause.) We will also lead a nationwide effort, working closely with African American churches and faith-based groups, to deliver rapid HIV tests to millions, end the stigma of AIDS, and come closer to the day when there are no new infections in America. (Applause.)\\n\\nFellow citizens, we\\'ve been called to leadership in a period of consequence. We\\'ve entered a great ideological conflict we did nothing to invite. We see great changes in science and commerce that will influence all our lives. Sometimes it can seem that history is turning in a wide arc, toward an unknown shore. Yet the destination of history is determined by human action, and every great movement of history comes to a point of choosing.\\n\\nLincoln could have accepted peace at the cost of disunity and continued slavery. Martin Luther King could have stopped at Birmingham or at Selma, and achieved only half a victory over segregation. The United States could have accepted the permanent division of Europe, and been complicit in the oppression of others. Today, having come far in our own historical journey, we must decide: Will we turn back, or finish well?\\n\\nBefore history is written down in books, it is written in courage. Like Americans before us, we will show that courage and we will finish well. We will lead freedom\\'s advance. We will compete and excel in the global economy. We will renew the defining moral commitments of this land. And so we move forward -- optimistic about our country, faithful to its cause, and confident of the victories to come.\\n\\nMay God bless America. (Applause.)\\n'"
      ]
     },
     "execution_count": 15,
     "metadata": {},
     "output_type": "execute_result"
    }
   ],
   "source": [
    "text"
   ]
  },
  {
   "cell_type": "code",
   "execution_count": 16,
   "metadata": {
    "collapsed": true
   },
   "outputs": [],
   "source": [
    "pos = pos_tag(word_tokenize(text))"
   ]
  },
  {
   "cell_type": "code",
   "execution_count": 17,
   "metadata": {},
   "outputs": [
    {
     "data": {
      "text/plain": [
       "[('GEORGE', 'NNP'),\n",
       " ('W.', 'NNP'),\n",
       " ('BUSH', 'NNP'),\n",
       " (\"'S\", 'POS'),\n",
       " ('ADDRESS', 'NNP'),\n",
       " ('BEFORE', 'IN'),\n",
       " ('A', 'NNP'),\n",
       " ('JOINT', 'NNP'),\n",
       " ('SESSION', 'NNP'),\n",
       " ('OF', 'IN'),\n",
       " ('THE', 'NNP'),\n",
       " ('CONGRESS', 'NNP'),\n",
       " ('ON', 'NNP'),\n",
       " ('THE', 'NNP'),\n",
       " ('STATE', 'NNP'),\n",
       " ('OF', 'IN'),\n",
       " ('THE', 'NNP'),\n",
       " ('UNION', 'NNP'),\n",
       " ('January', 'NNP'),\n",
       " ('31', 'CD'),\n",
       " (',', ','),\n",
       " ('2006', 'CD'),\n",
       " ('THE', 'NNP'),\n",
       " ('PRESIDENT', 'NNP'),\n",
       " (':', ':'),\n",
       " ('Thank', 'NNP'),\n",
       " ('you', 'PRP'),\n",
       " ('all', 'DT'),\n",
       " ('.', '.'),\n",
       " ('Mr.', 'NNP'),\n",
       " ('Speaker', 'NNP'),\n",
       " (',', ','),\n",
       " ('Vice', 'NNP'),\n",
       " ('President', 'NNP'),\n",
       " ('Cheney', 'NNP'),\n",
       " (',', ','),\n",
       " ('members', 'NNS'),\n",
       " ('of', 'IN'),\n",
       " ('Congress', 'NNP'),\n",
       " (',', ','),\n",
       " ('members', 'NNS'),\n",
       " ('of', 'IN'),\n",
       " ('the', 'DT'),\n",
       " ('Supreme', 'NNP'),\n",
       " ('Court', 'NNP'),\n",
       " ('and', 'CC'),\n",
       " ('diplomatic', 'JJ'),\n",
       " ('corps', 'NN'),\n",
       " (',', ',')]"
      ]
     },
     "execution_count": 17,
     "metadata": {},
     "output_type": "execute_result"
    }
   ],
   "source": [
    "pos[1:50]"
   ]
  },
  {
   "cell_type": "raw",
   "metadata": {},
   "source": [
    "POS tag list:\n",
    "\n",
    "CC\tcoordinating conjunction\n",
    "CD\tcardinal digit\n",
    "DT\tdeterminer\n",
    "EX\texistential there (like: \"there is\" ... think of it like \"there exists\")\n",
    "FW\tforeign word\n",
    "IN\tpreposition/subordinating conjunction\n",
    "JJ\tadjective\t'big'\n",
    "JJR\tadjective, comparative\t'bigger'\n",
    "JJS\tadjective, superlative\t'biggest'\n",
    "LS\tlist marker\t1)\n",
    "MD\tmodal\tcould, will\n",
    "NN\tnoun, singular 'desk'\n",
    "NNS\tnoun plural\t'desks'\n",
    "NNP\tproper noun, singular\t'Harrison'\n",
    "NNPS\tproper noun, plural\t'Americans'\n",
    "PDT\tpredeterminer\t'all the kids'\n",
    "POS\tpossessive ending\tparent's\n",
    "PRP\tpersonal pronoun\tI, he, she\n",
    "PRP$\tpossessive pronoun\tmy, his, hers\n",
    "RB\tadverb\tvery, silently,\n",
    "RBR\tadverb, comparative\tbetter\n",
    "RBS\tadverb, superlative\tbest\n",
    "RP\tparticle\tgive up\n",
    "TO\tto\tgo 'to' the store.\n",
    "UH\tinterjection\terrrrrrrrm\n",
    "VB\tverb, base form\ttake\n",
    "VBD\tverb, past tense\ttook\n",
    "VBG\tverb, gerund/present participle\ttaking\n",
    "VBN\tverb, past participle\ttaken\n",
    "VBP\tverb, sing. present, non-3d\ttake\n",
    "VBZ\tverb, 3rd person sing. present\ttakes\n",
    "WDT\twh-determiner\twhich\n",
    "WP\twh-pronoun\twho, what\n",
    "WP$\tpossessive wh-pronoun\twhose\n",
    "WRB\twh-abverb\twhere, when"
   ]
  },
  {
   "cell_type": "code",
   "execution_count": 18,
   "metadata": {
    "collapsed": true
   },
   "outputs": [],
   "source": [
    "from nltk.stem import WordNetLemmatizer"
   ]
  },
  {
   "cell_type": "code",
   "execution_count": 19,
   "metadata": {
    "collapsed": true
   },
   "outputs": [],
   "source": [
    "lemmatizer = WordNetLemmatizer()"
   ]
  },
  {
   "cell_type": "code",
   "execution_count": 20,
   "metadata": {},
   "outputs": [
    {
     "data": {
      "text/plain": [
       "'good'"
      ]
     },
     "execution_count": 20,
     "metadata": {},
     "output_type": "execute_result"
    }
   ],
   "source": [
    "lemmatizer.lemmatize(\"good\", pos = \"a\")"
   ]
  },
  {
   "cell_type": "code",
   "execution_count": 21,
   "metadata": {},
   "outputs": [
    {
     "data": {
      "text/plain": [
       "'good'"
      ]
     },
     "execution_count": 21,
     "metadata": {},
     "output_type": "execute_result"
    }
   ],
   "source": [
    "lemmatizer.lemmatize(\"better\", pos = \"a\")"
   ]
  },
  {
   "cell_type": "code",
   "execution_count": 22,
   "metadata": {},
   "outputs": [
    {
     "data": {
      "text/plain": [
       "'excellent'"
      ]
     },
     "execution_count": 22,
     "metadata": {},
     "output_type": "execute_result"
    }
   ],
   "source": [
    "lemmatizer.lemmatize(\"excellent\", pos = \"n\")"
   ]
  },
  {
   "cell_type": "code",
   "execution_count": 23,
   "metadata": {},
   "outputs": [
    {
     "data": {
      "text/plain": [
       "'paint'"
      ]
     },
     "execution_count": 23,
     "metadata": {},
     "output_type": "execute_result"
    }
   ],
   "source": [
    "lemmatizer.lemmatize(\"painting\", pos = \"v\")"
   ]
  },
  {
   "cell_type": "code",
   "execution_count": 24,
   "metadata": {},
   "outputs": [
    {
     "data": {
      "text/plain": [
       "'painting'"
      ]
     },
     "execution_count": 24,
     "metadata": {},
     "output_type": "execute_result"
    }
   ],
   "source": [
    "lemmatizer.lemmatize(\"painting\", pos = \"n\")"
   ]
  },
  {
   "cell_type": "code",
   "execution_count": 25,
   "metadata": {},
   "outputs": [
    {
     "data": {
      "text/plain": [
       "'study'"
      ]
     },
     "execution_count": 25,
     "metadata": {},
     "output_type": "execute_result"
    }
   ],
   "source": [
    "lemmatizer.lemmatize(\"studies\", pos = \"v\")"
   ]
  },
  {
   "cell_type": "raw",
   "metadata": {},
   "source": [
    "lemmatizer.lemmatize(\"studies\", pos = \"n\")"
   ]
  },
  {
   "cell_type": "markdown",
   "metadata": {},
   "source": [
    "f\n"
   ]
  },
  {
   "cell_type": "code",
   "execution_count": 26,
   "metadata": {
    "collapsed": true
   },
   "outputs": [],
   "source": [
    "from nltk.corpus import wordnet"
   ]
  },
  {
   "cell_type": "code",
   "execution_count": 27,
   "metadata": {},
   "outputs": [
    {
     "data": {
      "text/plain": [
       "[Synset('can.n.01'),\n",
       " Synset('can.n.02'),\n",
       " Synset('can.n.03'),\n",
       " Synset('buttocks.n.01'),\n",
       " Synset('toilet.n.02'),\n",
       " Synset('toilet.n.01'),\n",
       " Synset('can.v.01'),\n",
       " Synset('displace.v.03')]"
      ]
     },
     "execution_count": 27,
     "metadata": {},
     "output_type": "execute_result"
    }
   ],
   "source": [
    "syns = wordnet.synsets(\"can\")\n",
    "syns"
   ]
  },
  {
   "cell_type": "code",
   "execution_count": 28,
   "metadata": {},
   "outputs": [
    {
     "data": {
      "text/plain": [
       "[Synset('respect.n.01'),\n",
       " Synset('attentiveness.n.01'),\n",
       " Synset('regard.n.03'),\n",
       " Synset('gaze.n.01'),\n",
       " Synset('esteem.n.01'),\n",
       " Synset('regard.n.06'),\n",
       " Synset('respect.n.03'),\n",
       " Synset('see.v.05'),\n",
       " Synset('regard.v.02'),\n",
       " Synset('involve.v.01')]"
      ]
     },
     "execution_count": 28,
     "metadata": {},
     "output_type": "execute_result"
    }
   ],
   "source": [
    "syns = wordnet.synsets(\"regard\")\n",
    "syns\n"
   ]
  },
  {
   "cell_type": "code",
   "execution_count": 29,
   "metadata": {},
   "outputs": [
    {
     "data": {
      "text/plain": [
       "'the condition of being honored (esteemed or respected or well regarded)'"
      ]
     },
     "execution_count": 29,
     "metadata": {},
     "output_type": "execute_result"
    }
   ],
   "source": [
    "syns[4].definition()"
   ]
  },
  {
   "cell_type": "code",
   "execution_count": 30,
   "metadata": {},
   "outputs": [
    {
     "data": {
      "text/plain": [
       "['give him my kind regards', 'my best wishes']"
      ]
     },
     "execution_count": 30,
     "metadata": {},
     "output_type": "execute_result"
    }
   ],
   "source": [
    "syns[2].examples()"
   ]
  },
  {
   "cell_type": "code",
   "execution_count": 31,
   "metadata": {},
   "outputs": [
    {
     "data": {
      "text/plain": [
       "['she mistook his manly regard for love', 'he inspires respect']"
      ]
     },
     "execution_count": 31,
     "metadata": {},
     "output_type": "execute_result"
    }
   ],
   "source": [
    "syns[5].examples()"
   ]
  },
  {
   "cell_type": "code",
   "execution_count": 32,
   "metadata": {},
   "outputs": [
    {
     "name": "stdout",
     "output_type": "stream",
     "text": [
      "0.6956521739130435\n"
     ]
    }
   ],
   "source": [
    "w1 = wordnet.synset('boat.n.01')\n",
    "w2 = wordnet.synset('car.n.01')\n",
    "print(w1.wup_similarity(w2))"
   ]
  },
  {
   "cell_type": "code",
   "execution_count": 33,
   "metadata": {},
   "outputs": [
    {
     "name": "stdout",
     "output_type": "stream",
     "text": [
      "0.9090909090909091\n"
     ]
    }
   ],
   "source": [
    "w1 = wordnet.synset('boat.n.01')\n",
    "w2 = wordnet.synset('ship.n.01')\n",
    "print(w1.wup_similarity(w2))"
   ]
  },
  {
   "cell_type": "code",
   "execution_count": 34,
   "metadata": {
    "collapsed": true
   },
   "outputs": [],
   "source": [
    "from nltk import ne_chunk"
   ]
  },
  {
   "cell_type": "code",
   "execution_count": 35,
   "metadata": {
    "collapsed": true
   },
   "outputs": [],
   "source": [
    "sentence = \"Sergey Brin, the manager of Google Inc. is walking down the street in London.\"\n",
    "sentence =  sentence.lower()"
   ]
  },
  {
   "cell_type": "code",
   "execution_count": 36,
   "metadata": {},
   "outputs": [
    {
     "ename": "LookupError",
     "evalue": "\n\n===========================================================================\nNLTK was unable to find the gs file!\nUse software specific configuration paramaters or set the PATH environment variable.\n===========================================================================",
     "output_type": "error",
     "traceback": [
      "\u001b[0;31m---------------------------------------------------------------------------\u001b[0m",
      "\u001b[0;31mLookupError\u001b[0m                               Traceback (most recent call last)",
      "\u001b[0;32m/Users/achintyasarkar/anaconda/lib/python3.6/site-packages/IPython/core/formatters.py\u001b[0m in \u001b[0;36m__call__\u001b[0;34m(self, obj)\u001b[0m\n\u001b[1;32m    309\u001b[0m             \u001b[0mmethod\u001b[0m \u001b[0;34m=\u001b[0m \u001b[0mget_real_method\u001b[0m\u001b[0;34m(\u001b[0m\u001b[0mobj\u001b[0m\u001b[0;34m,\u001b[0m \u001b[0mself\u001b[0m\u001b[0;34m.\u001b[0m\u001b[0mprint_method\u001b[0m\u001b[0;34m)\u001b[0m\u001b[0;34m\u001b[0m\u001b[0m\n\u001b[1;32m    310\u001b[0m             \u001b[0;32mif\u001b[0m \u001b[0mmethod\u001b[0m \u001b[0;32mis\u001b[0m \u001b[0;32mnot\u001b[0m \u001b[0;32mNone\u001b[0m\u001b[0;34m:\u001b[0m\u001b[0;34m\u001b[0m\u001b[0m\n\u001b[0;32m--> 311\u001b[0;31m                 \u001b[0;32mreturn\u001b[0m \u001b[0mmethod\u001b[0m\u001b[0;34m(\u001b[0m\u001b[0;34m)\u001b[0m\u001b[0;34m\u001b[0m\u001b[0m\n\u001b[0m\u001b[1;32m    312\u001b[0m             \u001b[0;32mreturn\u001b[0m \u001b[0;32mNone\u001b[0m\u001b[0;34m\u001b[0m\u001b[0m\n\u001b[1;32m    313\u001b[0m         \u001b[0;32melse\u001b[0m\u001b[0;34m:\u001b[0m\u001b[0;34m\u001b[0m\u001b[0m\n",
      "\u001b[0;32m/Users/achintyasarkar/anaconda/lib/python3.6/site-packages/nltk/tree.py\u001b[0m in \u001b[0;36m_repr_png_\u001b[0;34m(self)\u001b[0m\n\u001b[1;32m    728\u001b[0m             \u001b[0m_canvas_frame\u001b[0m\u001b[0;34m.\u001b[0m\u001b[0mprint_to_file\u001b[0m\u001b[0;34m(\u001b[0m\u001b[0min_path\u001b[0m\u001b[0;34m)\u001b[0m\u001b[0;34m\u001b[0m\u001b[0m\n\u001b[1;32m    729\u001b[0m             \u001b[0m_canvas_frame\u001b[0m\u001b[0;34m.\u001b[0m\u001b[0mdestroy_widget\u001b[0m\u001b[0;34m(\u001b[0m\u001b[0mwidget\u001b[0m\u001b[0;34m)\u001b[0m\u001b[0;34m\u001b[0m\u001b[0m\n\u001b[0;32m--> 730\u001b[0;31m             subprocess.call([find_binary('gs', binary_names=['gswin32c.exe', 'gswin64c.exe'], env_vars=['PATH'], verbose=False)] +\n\u001b[0m\u001b[1;32m    731\u001b[0m                             \u001b[0;34m'-q -dEPSCrop -sDEVICE=png16m -r90 -dTextAlphaBits=4 -dGraphicsAlphaBits=4 -dSAFER -dBATCH -dNOPAUSE -sOutputFile={0:} {1:}'\u001b[0m\u001b[0;34m\u001b[0m\u001b[0m\n\u001b[1;32m    732\u001b[0m                             .format(out_path, in_path).split())\n",
      "\u001b[0;32m/Users/achintyasarkar/anaconda/lib/python3.6/site-packages/nltk/__init__.py\u001b[0m in \u001b[0;36mfind_binary\u001b[0;34m(name, path_to_bin, env_vars, searchpath, binary_names, url, verbose)\u001b[0m\n\u001b[1;32m    602\u001b[0m                 binary_names=None, url=None, verbose=False):\n\u001b[1;32m    603\u001b[0m     return next(find_binary_iter(name, path_to_bin, env_vars, searchpath,\n\u001b[0;32m--> 604\u001b[0;31m                                  binary_names, url, verbose))\n\u001b[0m\u001b[1;32m    605\u001b[0m \u001b[0;34m\u001b[0m\u001b[0m\n\u001b[1;32m    606\u001b[0m def find_jar_iter(name_pattern, path_to_jar=None, env_vars=(),\n",
      "\u001b[0;32m/Users/achintyasarkar/anaconda/lib/python3.6/site-packages/nltk/__init__.py\u001b[0m in \u001b[0;36mfind_binary_iter\u001b[0;34m(name, path_to_bin, env_vars, searchpath, binary_names, url, verbose)\u001b[0m\n\u001b[1;32m    596\u001b[0m     \"\"\"\n\u001b[1;32m    597\u001b[0m     for file in  find_file_iter(path_to_bin or name, env_vars, searchpath, binary_names,\n\u001b[0;32m--> 598\u001b[0;31m                      url, verbose):\n\u001b[0m\u001b[1;32m    599\u001b[0m         \u001b[0;32myield\u001b[0m \u001b[0mfile\u001b[0m\u001b[0;34m\u001b[0m\u001b[0m\n\u001b[1;32m    600\u001b[0m \u001b[0;34m\u001b[0m\u001b[0m\n",
      "\u001b[0;32m/Users/achintyasarkar/anaconda/lib/python3.6/site-packages/nltk/__init__.py\u001b[0m in \u001b[0;36mfind_file_iter\u001b[0;34m(filename, env_vars, searchpath, file_names, url, verbose, finding_dir)\u001b[0m\n\u001b[1;32m    567\u001b[0m                         (filename, url))\n\u001b[1;32m    568\u001b[0m         \u001b[0mdiv\u001b[0m \u001b[0;34m=\u001b[0m \u001b[0;34m'='\u001b[0m\u001b[0;34m*\u001b[0m\u001b[0;36m75\u001b[0m\u001b[0;34m\u001b[0m\u001b[0m\n\u001b[0;32m--> 569\u001b[0;31m         \u001b[0;32mraise\u001b[0m \u001b[0mLookupError\u001b[0m\u001b[0;34m(\u001b[0m\u001b[0;34m'\\n\\n%s\\n%s\\n%s'\u001b[0m \u001b[0;34m%\u001b[0m \u001b[0;34m(\u001b[0m\u001b[0mdiv\u001b[0m\u001b[0;34m,\u001b[0m \u001b[0mmsg\u001b[0m\u001b[0;34m,\u001b[0m \u001b[0mdiv\u001b[0m\u001b[0;34m)\u001b[0m\u001b[0;34m)\u001b[0m\u001b[0;34m\u001b[0m\u001b[0m\n\u001b[0m\u001b[1;32m    570\u001b[0m \u001b[0;34m\u001b[0m\u001b[0m\n\u001b[1;32m    571\u001b[0m \u001b[0;34m\u001b[0m\u001b[0m\n",
      "\u001b[0;31mLookupError\u001b[0m: \n\n===========================================================================\nNLTK was unable to find the gs file!\nUse software specific configuration paramaters or set the PATH environment variable.\n==========================================================================="
     ]
    },
    {
     "data": {
      "text/plain": [
       "Tree('S', [('sergey', 'NN'), ('brin', 'NN'), (',', ','), ('the', 'DT'), ('manager', 'NN'), ('of', 'IN'), ('google', 'NN'), ('inc.', 'NN'), ('is', 'VBZ'), ('walking', 'VBG'), ('down', 'RP'), ('the', 'DT'), ('street', 'NN'), ('in', 'IN'), ('london', 'NN'), ('.', '.')])"
      ]
     },
     "execution_count": 36,
     "metadata": {},
     "output_type": "execute_result"
    }
   ],
   "source": [
    "converted = ne_chunk(pos_tag(word_tokenize(sentence)))\n",
    "converted"
   ]
  },
  {
   "cell_type": "raw",
   "metadata": {},
   "source": [
    "ORGANIZATION - Georgia-Pacific Corp., WHO\n",
    "PERSON - Eddy Bonte, President Obama\n",
    "LOCATION - Murray River, Mount Everest\n",
    "DATE - June, 2008-06-29\n",
    "TIME - two fifty a m, 1:30 p.m.\n",
    "MONEY - 175 million Canadian Dollars, GBP 10.40\n",
    "PERCENT - twenty pct, 18.75 %\n",
    "FACILITY - Washington Monument, Stonehenge\n",
    "GPE - South East Asia, Midlothian"
   ]
  },
  {
   "cell_type": "code",
   "execution_count": 37,
   "metadata": {
    "collapsed": true
   },
   "outputs": [],
   "source": [
    "from nltk.corpus import movie_reviews"
   ]
  },
  {
   "cell_type": "markdown",
   "metadata": {},
   "source": [
    "movie_reviews.categories()"
   ]
  },
  {
   "cell_type": "code",
   "execution_count": 38,
   "metadata": {},
   "outputs": [
    {
     "data": {
      "text/plain": [
       "['capsule', ':', 'in', '2176', 'on', 'the', 'planet', ...]"
      ]
     },
     "execution_count": 38,
     "metadata": {},
     "output_type": "execute_result"
    }
   ],
   "source": [
    "movie_reviews.words(movie_reviews.fileids()[5])"
   ]
  },
  {
   "cell_type": "code",
   "execution_count": 39,
   "metadata": {
    "collapsed": true
   },
   "outputs": [],
   "source": [
    "documents = []\n",
    "for category in movie_reviews.categories():\n",
    "    for fileid in movie_reviews.fileids(category):\n",
    "        documents.append((movie_reviews.words(fileid), category))"
   ]
  },
  {
   "cell_type": "code",
   "execution_count": 40,
   "metadata": {},
   "outputs": [
    {
     "data": {
      "text/plain": [
       "2000"
      ]
     },
     "execution_count": 40,
     "metadata": {},
     "output_type": "execute_result"
    }
   ],
   "source": [
    "len(documents)"
   ]
  },
  {
   "cell_type": "code",
   "execution_count": 41,
   "metadata": {},
   "outputs": [
    {
     "data": {
      "text/plain": [
       "'neg'"
      ]
     },
     "execution_count": 41,
     "metadata": {},
     "output_type": "execute_result"
    }
   ],
   "source": [
    "documents[2][1]"
   ]
  },
  {
   "cell_type": "code",
   "execution_count": 42,
   "metadata": {
    "collapsed": true
   },
   "outputs": [],
   "source": [
    "import random\n",
    "random.shuffle(documents)"
   ]
  },
  {
   "cell_type": "code",
   "execution_count": null,
   "metadata": {
    "collapsed": true
   },
   "outputs": [],
   "source": []
  },
  {
   "cell_type": "code",
   "execution_count": 43,
   "metadata": {
    "collapsed": true
   },
   "outputs": [],
   "source": [
    "all_words = []\n",
    "stops.update(\".\", \"?\", \"(\", \")\", \",\", \"-\", \"'\", '\"')\n",
    "for w in movie_reviews.words():\n",
    "    if w.lower() not in stops:\n",
    "        all_words.append(w.lower())"
   ]
  },
  {
   "cell_type": "code",
   "execution_count": 44,
   "metadata": {},
   "outputs": [
    {
     "data": {
      "text/plain": [
       "721009"
      ]
     },
     "execution_count": 44,
     "metadata": {},
     "output_type": "execute_result"
    }
   ],
   "source": [
    "len(all_words)"
   ]
  },
  {
   "cell_type": "code",
   "execution_count": 45,
   "metadata": {
    "collapsed": true
   },
   "outputs": [],
   "source": [
    "import nltk"
   ]
  },
  {
   "cell_type": "code",
   "execution_count": 46,
   "metadata": {},
   "outputs": [
    {
     "data": {
      "text/plain": [
       "[('film', 9517),\n",
       " ('one', 5852),\n",
       " ('movie', 5771),\n",
       " ('like', 3690),\n",
       " (':', 3042),\n",
       " ('even', 2565),\n",
       " ('good', 2411),\n",
       " ('time', 2411),\n",
       " ('story', 2169),\n",
       " ('would', 2109),\n",
       " ('much', 2049),\n",
       " ('character', 2020),\n",
       " ('also', 1967),\n",
       " ('get', 1949),\n",
       " ('two', 1911)]"
      ]
     },
     "execution_count": 46,
     "metadata": {},
     "output_type": "execute_result"
    }
   ],
   "source": [
    "all_words = nltk.FreqDist(all_words)\n",
    "all_words.most_common(15)"
   ]
  },
  {
   "cell_type": "code",
   "execution_count": 47,
   "metadata": {},
   "outputs": [
    {
     "ename": "TypeError",
     "evalue": "list indices must be integers or slices, not tuple",
     "output_type": "error",
     "traceback": [
      "\u001b[0;31m---------------------------------------------------------------------------\u001b[0m",
      "\u001b[0;31mTypeError\u001b[0m                                 Traceback (most recent call last)",
      "\u001b[0;32m<ipython-input-47-bc3a97b2e540>\u001b[0m in \u001b[0;36m<module>\u001b[0;34m()\u001b[0m\n\u001b[0;32m----> 1\u001b[0;31m \u001b[0mword_features\u001b[0m \u001b[0;34m=\u001b[0m \u001b[0mlist\u001b[0m\u001b[0;34m(\u001b[0m\u001b[0mall_words\u001b[0m\u001b[0;34m.\u001b[0m\u001b[0mmost_common\u001b[0m\u001b[0;34m(\u001b[0m\u001b[0;36m3000\u001b[0m\u001b[0;34m)\u001b[0m\u001b[0;34m[\u001b[0m\u001b[0;34m:\u001b[0m\u001b[0;34m,\u001b[0m\u001b[0;36m0\u001b[0m\u001b[0;34m]\u001b[0m\u001b[0;34m)\u001b[0m\u001b[0;34m\u001b[0m\u001b[0m\n\u001b[0m",
      "\u001b[0;31mTypeError\u001b[0m: list indices must be integers or slices, not tuple"
     ]
    }
   ],
   "source": []
  },
  {
   "cell_type": "code",
   "execution_count": 48,
   "metadata": {
    "collapsed": true
   },
   "outputs": [],
   "source": [
    "word_features = []\n",
    "most_common = all_words.most_common()"
   ]
  },
  {
   "cell_type": "code",
   "execution_count": 49,
   "metadata": {
    "collapsed": true
   },
   "outputs": [],
   "source": [
    "for i in range(3000):\n",
    "    word_features.append(most_common[i][0])"
   ]
  },
  {
   "cell_type": "code",
   "execution_count": 50,
   "metadata": {},
   "outputs": [
    {
     "data": {
      "text/plain": [
       "3000"
      ]
     },
     "execution_count": 50,
     "metadata": {},
     "output_type": "execute_result"
    }
   ],
   "source": [
    "len(word_features)"
   ]
  },
  {
   "cell_type": "code",
   "execution_count": 51,
   "metadata": {},
   "outputs": [
    {
     "data": {
      "text/plain": [
       "['one', 'movie', 'like', ':', 'even', 'good', 'time', 'story', 'would']"
      ]
     },
     "execution_count": 51,
     "metadata": {},
     "output_type": "execute_result"
    }
   ],
   "source": [
    "word_features[1:10]"
   ]
  },
  {
   "cell_type": "code",
   "execution_count": 52,
   "metadata": {
    "collapsed": true
   },
   "outputs": [],
   "source": [
    "def find_features(document):\n",
    "    words = set(document)\n",
    "    features = {}\n",
    "    for w in word_features:\n",
    "        features[w] = (w in words)\n",
    "    return features"
   ]
  },
  {
   "cell_type": "code",
   "execution_count": null,
   "metadata": {},
   "outputs": [],
   "source": []
  },
  {
   "cell_type": "code",
   "execution_count": 53,
   "metadata": {
    "collapsed": true
   },
   "outputs": [],
   "source": [
    "features = find_features(movie_reviews.words(movie_reviews.fileids()[2]))#  for a single document "
   ]
  },
  {
   "cell_type": "code",
   "execution_count": 54,
   "metadata": {
    "collapsed": true
   },
   "outputs": [],
   "source": [
    "featuresets = [(find_features(doc), category) for (doc,category) in documents]# for multiple documents "
   ]
  },
  {
   "cell_type": "code",
   "execution_count": 55,
   "metadata": {},
   "outputs": [
    {
     "data": {
      "text/plain": [
       "({'film': False,\n",
       "  'one': True,\n",
       "  'movie': True,\n",
       "  'like': True,\n",
       "  ':': True,\n",
       "  'even': True,\n",
       "  'good': True,\n",
       "  'time': True,\n",
       "  'story': True,\n",
       "  'would': True,\n",
       "  'much': True,\n",
       "  'character': True,\n",
       "  'also': False,\n",
       "  'get': True,\n",
       "  'two': True,\n",
       "  'well': False,\n",
       "  'characters': True,\n",
       "  ';': True,\n",
       "  'first': False,\n",
       "  '--': True,\n",
       "  'see': False,\n",
       "  '!': False,\n",
       "  'way': False,\n",
       "  'make': False,\n",
       "  'life': True,\n",
       "  'really': False,\n",
       "  'films': False,\n",
       "  'plot': True,\n",
       "  'little': False,\n",
       "  'people': False,\n",
       "  'could': False,\n",
       "  'scene': False,\n",
       "  'man': False,\n",
       "  'bad': False,\n",
       "  'never': False,\n",
       "  'best': True,\n",
       "  'new': False,\n",
       "  'scenes': False,\n",
       "  'many': False,\n",
       "  'director': True,\n",
       "  'know': False,\n",
       "  'movies': False,\n",
       "  'action': False,\n",
       "  'great': False,\n",
       "  'another': False,\n",
       "  'love': False,\n",
       "  'go': True,\n",
       "  'made': True,\n",
       "  'us': False,\n",
       "  'big': False,\n",
       "  'end': False,\n",
       "  'something': False,\n",
       "  'back': False,\n",
       "  '*': False,\n",
       "  'still': True,\n",
       "  'world': False,\n",
       "  'seems': False,\n",
       "  'work': False,\n",
       "  'makes': False,\n",
       "  'however': False,\n",
       "  '/': False,\n",
       "  'every': False,\n",
       "  'though': False,\n",
       "  'better': False,\n",
       "  'real': False,\n",
       "  'audience': False,\n",
       "  'enough': False,\n",
       "  'seen': False,\n",
       "  'take': True,\n",
       "  'around': False,\n",
       "  'going': True,\n",
       "  'year': False,\n",
       "  'performance': False,\n",
       "  'role': False,\n",
       "  'old': False,\n",
       "  'gets': False,\n",
       "  'may': False,\n",
       "  'things': False,\n",
       "  'think': False,\n",
       "  'years': False,\n",
       "  'last': False,\n",
       "  'comedy': True,\n",
       "  'funny': False,\n",
       "  'actually': False,\n",
       "  'long': False,\n",
       "  'look': True,\n",
       "  'almost': True,\n",
       "  'thing': False,\n",
       "  'fact': False,\n",
       "  'nothing': False,\n",
       "  'say': True,\n",
       "  'right': False,\n",
       "  'john': False,\n",
       "  'although': False,\n",
       "  'played': False,\n",
       "  'find': True,\n",
       "  'script': False,\n",
       "  'come': True,\n",
       "  'ever': True,\n",
       "  'cast': False,\n",
       "  'since': False,\n",
       "  'star': False,\n",
       "  'plays': False,\n",
       "  'young': False,\n",
       "  'show': False,\n",
       "  'comes': True,\n",
       "  'part': False,\n",
       "  'original': False,\n",
       "  'actors': False,\n",
       "  'screen': False,\n",
       "  'without': False,\n",
       "  'acting': False,\n",
       "  'three': False,\n",
       "  'day': False,\n",
       "  'point': False,\n",
       "  'lot': False,\n",
       "  'least': False,\n",
       "  'takes': False,\n",
       "  'guy': False,\n",
       "  'quite': False,\n",
       "  'away': False,\n",
       "  'family': False,\n",
       "  'effects': False,\n",
       "  'course': False,\n",
       "  'goes': True,\n",
       "  'minutes': False,\n",
       "  'interesting': True,\n",
       "  'might': False,\n",
       "  'far': True,\n",
       "  'high': False,\n",
       "  'rather': False,\n",
       "  'must': False,\n",
       "  'anything': False,\n",
       "  'place': False,\n",
       "  'set': True,\n",
       "  'yet': False,\n",
       "  'watch': False,\n",
       "  'making': False,\n",
       "  'wife': False,\n",
       "  'hard': False,\n",
       "  'always': False,\n",
       "  'fun': False,\n",
       "  'seem': False,\n",
       "  'special': False,\n",
       "  'bit': False,\n",
       "  'times': False,\n",
       "  'trying': False,\n",
       "  'hollywood': False,\n",
       "  'instead': True,\n",
       "  'give': False,\n",
       "  'want': False,\n",
       "  'picture': False,\n",
       "  'kind': False,\n",
       "  'american': False,\n",
       "  'job': False,\n",
       "  'sense': False,\n",
       "  'woman': False,\n",
       "  'home': False,\n",
       "  'series': False,\n",
       "  'actor': False,\n",
       "  'probably': False,\n",
       "  'help': False,\n",
       "  'half': False,\n",
       "  'along': True,\n",
       "  'men': False,\n",
       "  'everything': False,\n",
       "  'pretty': True,\n",
       "  'becomes': True,\n",
       "  'sure': False,\n",
       "  'black': True,\n",
       "  'together': False,\n",
       "  'dialogue': False,\n",
       "  'money': False,\n",
       "  'become': False,\n",
       "  'gives': False,\n",
       "  'given': False,\n",
       "  'looking': False,\n",
       "  'whole': False,\n",
       "  'watching': False,\n",
       "  'father': False,\n",
       "  '`': False,\n",
       "  'feel': True,\n",
       "  'everyone': False,\n",
       "  'music': False,\n",
       "  'wants': False,\n",
       "  'sex': True,\n",
       "  'less': True,\n",
       "  'done': False,\n",
       "  'horror': False,\n",
       "  'got': False,\n",
       "  'death': True,\n",
       "  'perhaps': False,\n",
       "  'city': False,\n",
       "  'next': False,\n",
       "  'especially': True,\n",
       "  'play': False,\n",
       "  'girl': False,\n",
       "  'mind': False,\n",
       "  '10': False,\n",
       "  'moments': False,\n",
       "  'looks': False,\n",
       "  'completely': True,\n",
       "  '2': False,\n",
       "  'reason': False,\n",
       "  'mother': False,\n",
       "  'whose': False,\n",
       "  'line': False,\n",
       "  'night': False,\n",
       "  'human': False,\n",
       "  'rest': False,\n",
       "  'performances': False,\n",
       "  'different': False,\n",
       "  'evil': False,\n",
       "  'small': True,\n",
       "  'james': False,\n",
       "  'simply': False,\n",
       "  'couple': True,\n",
       "  'put': False,\n",
       "  'let': False,\n",
       "  'anyone': False,\n",
       "  'ending': False,\n",
       "  'case': False,\n",
       "  'several': False,\n",
       "  'dead': True,\n",
       "  'michael': True,\n",
       "  'left': False,\n",
       "  'thought': False,\n",
       "  'school': True,\n",
       "  'shows': False,\n",
       "  'humor': False,\n",
       "  'true': False,\n",
       "  'lost': False,\n",
       "  'written': True,\n",
       "  'friend': False,\n",
       "  'entire': False,\n",
       "  'getting': False,\n",
       "  'town': False,\n",
       "  'turns': False,\n",
       "  'soon': False,\n",
       "  'someone': False,\n",
       "  'second': False,\n",
       "  'main': False,\n",
       "  'stars': False,\n",
       "  'found': False,\n",
       "  'use': True,\n",
       "  'problem': False,\n",
       "  'friends': False,\n",
       "  'tv': False,\n",
       "  'top': False,\n",
       "  'name': False,\n",
       "  'begins': False,\n",
       "  'called': False,\n",
       "  'based': False,\n",
       "  'comic': True,\n",
       "  'david': False,\n",
       "  'head': True,\n",
       "  'else': False,\n",
       "  'idea': False,\n",
       "  'either': False,\n",
       "  'wrong': False,\n",
       "  'unfortunately': False,\n",
       "  'later': False,\n",
       "  'final': False,\n",
       "  'hand': False,\n",
       "  'alien': False,\n",
       "  'house': False,\n",
       "  'group': False,\n",
       "  'full': False,\n",
       "  'used': False,\n",
       "  'tries': False,\n",
       "  'often': False,\n",
       "  'war': False,\n",
       "  'sequence': False,\n",
       "  'keep': False,\n",
       "  'turn': False,\n",
       "  'playing': False,\n",
       "  'boy': False,\n",
       "  'behind': False,\n",
       "  'named': False,\n",
       "  'certainly': False,\n",
       "  'live': False,\n",
       "  'believe': False,\n",
       "  'works': False,\n",
       "  'relationship': False,\n",
       "  'face': False,\n",
       "  'hour': False,\n",
       "  'run': False,\n",
       "  'style': False,\n",
       "  'said': True,\n",
       "  'despite': False,\n",
       "  'person': False,\n",
       "  'finally': False,\n",
       "  'shot': False,\n",
       "  'book': False,\n",
       "  'tell': False,\n",
       "  'maybe': False,\n",
       "  'nice': False,\n",
       "  'son': False,\n",
       "  'perfect': False,\n",
       "  'side': False,\n",
       "  'seeing': False,\n",
       "  'able': False,\n",
       "  'finds': False,\n",
       "  'children': False,\n",
       "  'days': False,\n",
       "  'past': False,\n",
       "  'summer': False,\n",
       "  'camera': False,\n",
       "  'including': False,\n",
       "  'mr': False,\n",
       "  'kids': False,\n",
       "  'lives': True,\n",
       "  'directed': False,\n",
       "  'moment': False,\n",
       "  'game': False,\n",
       "  'running': False,\n",
       "  'fight': False,\n",
       "  'supposed': False,\n",
       "  'video': False,\n",
       "  'car': False,\n",
       "  'matter': False,\n",
       "  'kevin': False,\n",
       "  'joe': False,\n",
       "  'lines': False,\n",
       "  'worth': False,\n",
       "  '=': False,\n",
       "  'daughter': False,\n",
       "  'earth': False,\n",
       "  'starts': False,\n",
       "  'need': False,\n",
       "  'entertaining': False,\n",
       "  'white': True,\n",
       "  'start': False,\n",
       "  'writer': True,\n",
       "  'dark': False,\n",
       "  'short': False,\n",
       "  'self': True,\n",
       "  'worst': False,\n",
       "  'nearly': False,\n",
       "  'opening': True,\n",
       "  'try': False,\n",
       "  'upon': False,\n",
       "  'care': False,\n",
       "  'early': False,\n",
       "  'violence': False,\n",
       "  'throughout': True,\n",
       "  'team': False,\n",
       "  'production': False,\n",
       "  'example': False,\n",
       "  'beautiful': False,\n",
       "  'title': True,\n",
       "  'exactly': False,\n",
       "  'jack': False,\n",
       "  'review': True,\n",
       "  'major': False,\n",
       "  'drama': False,\n",
       "  '&': False,\n",
       "  'problems': False,\n",
       "  'sequences': False,\n",
       "  'obvious': False,\n",
       "  'version': False,\n",
       "  'screenplay': False,\n",
       "  'known': False,\n",
       "  'killer': False,\n",
       "  'robert': False,\n",
       "  'disney': False,\n",
       "  'already': True,\n",
       "  'close': False,\n",
       "  'classic': False,\n",
       "  'others': False,\n",
       "  'hit': False,\n",
       "  'kill': False,\n",
       "  'deep': False,\n",
       "  'five': False,\n",
       "  'order': False,\n",
       "  'act': False,\n",
       "  'simple': False,\n",
       "  'fine': False,\n",
       "  'heart': False,\n",
       "  'roles': False,\n",
       "  'jackie': False,\n",
       "  'direction': False,\n",
       "  'eyes': False,\n",
       "  'four': False,\n",
       "  'question': False,\n",
       "  'sort': False,\n",
       "  'sometimes': False,\n",
       "  'knows': False,\n",
       "  'supporting': False,\n",
       "  'coming': False,\n",
       "  'voice': False,\n",
       "  'women': False,\n",
       "  'truly': False,\n",
       "  'save': False,\n",
       "  'jokes': False,\n",
       "  'computer': False,\n",
       "  'child': False,\n",
       "  'boring': True,\n",
       "  'tom': True,\n",
       "  'level': False,\n",
       "  '1': False,\n",
       "  'body': False,\n",
       "  'guys': False,\n",
       "  'genre': False,\n",
       "  'brother': False,\n",
       "  'strong': False,\n",
       "  'stop': False,\n",
       "  'room': True,\n",
       "  'space': False,\n",
       "  'lee': False,\n",
       "  'ends': True,\n",
       "  'beginning': False,\n",
       "  'ship': False,\n",
       "  'york': False,\n",
       "  'attempt': True,\n",
       "  'thriller': False,\n",
       "  'scream': False,\n",
       "  'peter': False,\n",
       "  'husband': False,\n",
       "  'fiction': False,\n",
       "  'happens': False,\n",
       "  'hero': False,\n",
       "  'novel': False,\n",
       "  'note': False,\n",
       "  'hope': False,\n",
       "  'king': False,\n",
       "  'yes': False,\n",
       "  'says': False,\n",
       "  'tells': False,\n",
       "  'quickly': True,\n",
       "  'romantic': False,\n",
       "  'dog': False,\n",
       "  'oscar': False,\n",
       "  'stupid': False,\n",
       "  'possible': False,\n",
       "  'saw': False,\n",
       "  'lead': False,\n",
       "  'career': False,\n",
       "  'murder': False,\n",
       "  'extremely': False,\n",
       "  'manages': True,\n",
       "  'god': False,\n",
       "  'mostly': False,\n",
       "  'wonder': False,\n",
       "  'particularly': False,\n",
       "  'future': False,\n",
       "  'fans': False,\n",
       "  'sound': False,\n",
       "  'worse': False,\n",
       "  'piece': False,\n",
       "  'involving': False,\n",
       "  'de': False,\n",
       "  'appears': False,\n",
       "  'planet': False,\n",
       "  'paul': True,\n",
       "  'involved': False,\n",
       "  'mean': False,\n",
       "  'none': False,\n",
       "  'taking': False,\n",
       "  'hours': False,\n",
       "  'laugh': False,\n",
       "  'police': False,\n",
       "  'sets': False,\n",
       "  'attention': False,\n",
       "  'co': False,\n",
       "  'hell': False,\n",
       "  'eventually': False,\n",
       "  'single': False,\n",
       "  'fall': False,\n",
       "  'falls': False,\n",
       "  'material': False,\n",
       "  'emotional': False,\n",
       "  'power': False,\n",
       "  'late': False,\n",
       "  'lack': False,\n",
       "  'dr': False,\n",
       "  'van': False,\n",
       "  'result': False,\n",
       "  'elements': False,\n",
       "  'meet': False,\n",
       "  'smith': False,\n",
       "  'science': False,\n",
       "  'experience': False,\n",
       "  'bring': False,\n",
       "  'wild': False,\n",
       "  'living': False,\n",
       "  'theater': False,\n",
       "  'interest': False,\n",
       "  'leads': False,\n",
       "  'word': False,\n",
       "  'feature': False,\n",
       "  'battle': False,\n",
       "  'girls': False,\n",
       "  'alone': False,\n",
       "  'obviously': False,\n",
       "  'george': False,\n",
       "  'within': False,\n",
       "  'usually': False,\n",
       "  'enjoy': False,\n",
       "  'guess': False,\n",
       "  'among': False,\n",
       "  'taken': True,\n",
       "  'feeling': False,\n",
       "  'laughs': False,\n",
       "  'aliens': False,\n",
       "  'talk': False,\n",
       "  'chance': False,\n",
       "  'talent': False,\n",
       "  '3': False,\n",
       "  'middle': False,\n",
       "  'number': False,\n",
       "  'easy': True,\n",
       "  'across': False,\n",
       "  'needs': False,\n",
       "  'attempts': False,\n",
       "  'happen': False,\n",
       "  'television': False,\n",
       "  'chris': False,\n",
       "  'deal': False,\n",
       "  'poor': False,\n",
       "  'form': True,\n",
       "  'girlfriend': False,\n",
       "  'viewer': False,\n",
       "  'release': False,\n",
       "  'killed': False,\n",
       "  'forced': False,\n",
       "  'whether': False,\n",
       "  'wonderful': False,\n",
       "  'feels': False,\n",
       "  'oh': False,\n",
       "  'tale': False,\n",
       "  'serious': False,\n",
       "  'expect': False,\n",
       "  'except': False,\n",
       "  'light': False,\n",
       "  'success': False,\n",
       "  'features': False,\n",
       "  'premise': True,\n",
       "  'happy': True,\n",
       "  'words': False,\n",
       "  'leave': False,\n",
       "  'important': False,\n",
       "  'meets': False,\n",
       "  'history': False,\n",
       "  'giving': False,\n",
       "  'crew': False,\n",
       "  'type': False,\n",
       "  'call': False,\n",
       "  'turned': False,\n",
       "  'released': False,\n",
       "  'parents': False,\n",
       "  'art': False,\n",
       "  'impressive': False,\n",
       "  'mission': False,\n",
       "  'working': True,\n",
       "  'seemed': False,\n",
       "  'score': False,\n",
       "  'told': False,\n",
       "  'recent': False,\n",
       "  'robin': False,\n",
       "  'basically': False,\n",
       "  'entertainment': False,\n",
       "  'america': False,\n",
       "  '$': False,\n",
       "  'surprise': False,\n",
       "  'apparently': False,\n",
       "  'easily': False,\n",
       "  'ryan': False,\n",
       "  'cool': False,\n",
       "  'stuff': False,\n",
       "  'cop': False,\n",
       "  'change': False,\n",
       "  'williams': False,\n",
       "  'crime': False,\n",
       "  'office': False,\n",
       "  'parts': False,\n",
       "  'somehow': False,\n",
       "  'sequel': False,\n",
       "  'william': False,\n",
       "  'cut': False,\n",
       "  'die': True,\n",
       "  'jones': False,\n",
       "  'credits': False,\n",
       "  'batman': False,\n",
       "  'suspense': False,\n",
       "  'brings': True,\n",
       "  'events': False,\n",
       "  'reality': False,\n",
       "  'local': False,\n",
       "  'talking': False,\n",
       "  'difficult': False,\n",
       "  'using': True,\n",
       "  'went': False,\n",
       "  'writing': False,\n",
       "  'remember': False,\n",
       "  'near': False,\n",
       "  'straight': True,\n",
       "  'hilarious': False,\n",
       "  'ago': True,\n",
       "  'certain': False,\n",
       "  'ben': False,\n",
       "  'kid': False,\n",
       "  'slow': False,\n",
       "  'blood': False,\n",
       "  'mystery': False,\n",
       "  'complete': False,\n",
       "  'red': False,\n",
       "  'popular': False,\n",
       "  'effective': False,\n",
       "  'fast': False,\n",
       "  'flick': False,\n",
       "  'due': False,\n",
       "  'runs': False,\n",
       "  'gone': False,\n",
       "  'return': False,\n",
       "  'presence': False,\n",
       "  'quality': False,\n",
       "  'dramatic': False,\n",
       "  'filmmakers': False,\n",
       "  'age': False,\n",
       "  'brothers': False,\n",
       "  'business': False,\n",
       "  'general': False,\n",
       "  'rock': False,\n",
       "  'sexual': False,\n",
       "  'present': False,\n",
       "  'surprisingly': True,\n",
       "  'anyway': False,\n",
       "  'uses': False,\n",
       "  '4': False,\n",
       "  'personal': False,\n",
       "  'figure': False,\n",
       "  'smart': False,\n",
       "  'ways': False,\n",
       "  'decides': False,\n",
       "  'annoying': False,\n",
       "  'begin': False,\n",
       "  'somewhat': True,\n",
       "  'shots': False,\n",
       "  'rich': False,\n",
       "  'minute': False,\n",
       "  'law': False,\n",
       "  'previous': False,\n",
       "  'jim': False,\n",
       "  'successful': False,\n",
       "  'harry': False,\n",
       "  'water': False,\n",
       "  'similar': False,\n",
       "  'absolutely': False,\n",
       "  'motion': False,\n",
       "  'former': False,\n",
       "  'strange': False,\n",
       "  'came': False,\n",
       "  'follow': False,\n",
       "  'read': False,\n",
       "  'project': False,\n",
       "  'million': False,\n",
       "  'secret': False,\n",
       "  'starring': False,\n",
       "  'clear': True,\n",
       "  'familiar': False,\n",
       "  'romance': False,\n",
       "  'intelligent': False,\n",
       "  'third': False,\n",
       "  'excellent': False,\n",
       "  'amazing': False,\n",
       "  'party': False,\n",
       "  'budget': False,\n",
       "  'eye': False,\n",
       "  'actress': False,\n",
       "  'prison': False,\n",
       "  'latest': False,\n",
       "  'means': False,\n",
       "  'company': True,\n",
       "  'towards': False,\n",
       "  'predictable': False,\n",
       "  'powerful': False,\n",
       "  'bob': False,\n",
       "  'beyond': False,\n",
       "  'visual': False,\n",
       "  'leaves': False,\n",
       "  'r': False,\n",
       "  'nature': False,\n",
       "  'following': False,\n",
       "  'villain': False,\n",
       "  'leaving': False,\n",
       "  'animated': False,\n",
       "  'low': False,\n",
       "  'b': False,\n",
       "  'bill': False,\n",
       "  'sam': False,\n",
       "  'filled': True,\n",
       "  'wars': False,\n",
       "  'questions': False,\n",
       "  'cinema': False,\n",
       "  'message': False,\n",
       "  'box': False,\n",
       "  'moving': False,\n",
       "  'country': False,\n",
       "  'usual': True,\n",
       "  'martin': False,\n",
       "  'definitely': False,\n",
       "  'add': False,\n",
       "  'large': False,\n",
       "  'clever': True,\n",
       "  'create': False,\n",
       "  'felt': False,\n",
       "  'stories': False,\n",
       "  'brilliant': False,\n",
       "  'ones': False,\n",
       "  'giant': False,\n",
       "  'situation': True,\n",
       "  'murphy': False,\n",
       "  'break': False,\n",
       "  'opens': False,\n",
       "  'scary': False,\n",
       "  'doubt': False,\n",
       "  'drug': False,\n",
       "  'bunch': False,\n",
       "  'thinking': False,\n",
       "  'solid': False,\n",
       "  'effect': False,\n",
       "  'learn': False,\n",
       "  'move': True,\n",
       "  'force': False,\n",
       "  'potential': True,\n",
       "  'seriously': False,\n",
       "  'follows': False,\n",
       "  'saying': False,\n",
       "  'huge': False,\n",
       "  'class': False,\n",
       "  'plan': False,\n",
       "  'agent': False,\n",
       "  'created': False,\n",
       "  'unlike': False,\n",
       "  'pay': False,\n",
       "  'non': False,\n",
       "  'married': False,\n",
       "  'mark': True,\n",
       "  'sweet': True,\n",
       "  'perfectly': False,\n",
       "  'ex': False,\n",
       "  'realize': False,\n",
       "  'audiences': False,\n",
       "  'took': False,\n",
       "  'decent': False,\n",
       "  'likely': False,\n",
       "  'dream': False,\n",
       "  'view': False,\n",
       "  'scott': True,\n",
       "  'subject': False,\n",
       "  'understand': False,\n",
       "  'happened': False,\n",
       "  'enjoyable': False,\n",
       "  'studio': False,\n",
       "  'immediately': True,\n",
       "  'open': False,\n",
       "  'e': False,\n",
       "  'points': False,\n",
       "  'heard': False,\n",
       "  'viewers': False,\n",
       "  'cameron': False,\n",
       "  'truman': False,\n",
       "  'bruce': False,\n",
       "  'frank': False,\n",
       "  'private': False,\n",
       "  'stay': False,\n",
       "  'fails': False,\n",
       "  'impossible': False,\n",
       "  'cold': False,\n",
       "  'richard': False,\n",
       "  'overall': False,\n",
       "  'merely': False,\n",
       "  'exciting': False,\n",
       "  'mess': False,\n",
       "  'chase': False,\n",
       "  'free': True,\n",
       "  'ten': False,\n",
       "  'neither': False,\n",
       "  'wanted': False,\n",
       "  'gun': False,\n",
       "  'appear': False,\n",
       "  'carter': False,\n",
       "  'escape': False,\n",
       "  'ultimately': False,\n",
       "  '+': False,\n",
       "  'fan': False,\n",
       "  'inside': False,\n",
       "  'favorite': False,\n",
       "  'modern': False,\n",
       "  'l': False,\n",
       "  'wedding': False,\n",
       "  'stone': False,\n",
       "  'trek': False,\n",
       "  'brought': False,\n",
       "  'trouble': False,\n",
       "  'otherwise': False,\n",
       "  'tim': False,\n",
       "  '5': False,\n",
       "  'allen': False,\n",
       "  'bond': False,\n",
       "  'society': False,\n",
       "  'liked': False,\n",
       "  'dumb': False,\n",
       "  'musical': False,\n",
       "  'stand': False,\n",
       "  'political': False,\n",
       "  'various': False,\n",
       "  'talented': False,\n",
       "  'particular': False,\n",
       "  'west': False,\n",
       "  'state': False,\n",
       "  'keeps': False,\n",
       "  'english': False,\n",
       "  'silly': False,\n",
       "  'u': False,\n",
       "  'situations': False,\n",
       "  'park': False,\n",
       "  'teen': False,\n",
       "  'rating': False,\n",
       "  'slightly': False,\n",
       "  'steve': False,\n",
       "  'truth': False,\n",
       "  'air': False,\n",
       "  'element': False,\n",
       "  'joke': False,\n",
       "  'spend': False,\n",
       "  'key': False,\n",
       "  'biggest': False,\n",
       "  'members': False,\n",
       "  'effort': False,\n",
       "  'government': False,\n",
       "  'focus': False,\n",
       "  'eddie': False,\n",
       "  'soundtrack': False,\n",
       "  'hands': False,\n",
       "  'earlier': False,\n",
       "  'chan': False,\n",
       "  'purpose': False,\n",
       "  'today': False,\n",
       "  'showing': False,\n",
       "  'memorable': False,\n",
       "  'six': False,\n",
       "  'cannot': False,\n",
       "  'max': False,\n",
       "  'offers': False,\n",
       "  'rated': False,\n",
       "  'mars': False,\n",
       "  'heavy': False,\n",
       "  'totally': False,\n",
       "  'control': False,\n",
       "  'credit': False,\n",
       "  'fi': False,\n",
       "  'woody': False,\n",
       "  'ideas': False,\n",
       "  'sci': False,\n",
       "  'wait': False,\n",
       "  'sit': False,\n",
       "  'female': False,\n",
       "  'ask': False,\n",
       "  'waste': False,\n",
       "  'terrible': False,\n",
       "  'depth': False,\n",
       "  'simon': False,\n",
       "  'aspect': False,\n",
       "  'list': False,\n",
       "  'mary': False,\n",
       "  'sister': False,\n",
       "  'animation': False,\n",
       "  'entirely': False,\n",
       "  'fear': False,\n",
       "  'steven': False,\n",
       "  'moves': False,\n",
       "  'actual': False,\n",
       "  'army': False,\n",
       "  'british': True,\n",
       "  'constantly': False,\n",
       "  'fire': False,\n",
       "  'convincing': False,\n",
       "  'setting': False,\n",
       "  'gave': False,\n",
       "  'tension': False,\n",
       "  'street': False,\n",
       "  '8': False,\n",
       "  'brief': False,\n",
       "  'ridiculous': False,\n",
       "  'cinematography': False,\n",
       "  'typical': False,\n",
       "  'nick': False,\n",
       "  'screenwriter': False,\n",
       "  'ability': False,\n",
       "  'spent': False,\n",
       "  'quick': False,\n",
       "  'violent': False,\n",
       "  'atmosphere': False,\n",
       "  'subtle': False,\n",
       "  'expected': False,\n",
       "  'fairly': False,\n",
       "  'seven': False,\n",
       "  'killing': False,\n",
       "  'tone': False,\n",
       "  'master': False,\n",
       "  'disaster': False,\n",
       "  'lots': False,\n",
       "  'thinks': False,\n",
       "  'song': False,\n",
       "  'cheap': True,\n",
       "  'suddenly': False,\n",
       "  'background': False,\n",
       "  'club': False,\n",
       "  'willis': False,\n",
       "  'whatever': True,\n",
       "  'highly': False,\n",
       "  'sees': False,\n",
       "  'complex': False,\n",
       "  'greatest': False,\n",
       "  'impact': False,\n",
       "  'beauty': False,\n",
       "  'front': False,\n",
       "  'humans': False,\n",
       "  'indeed': False,\n",
       "  'flat': False,\n",
       "  'grace': False,\n",
       "  'wrote': False,\n",
       "  'amusing': False,\n",
       "  'ii': False,\n",
       "  'mike': True,\n",
       "  'cute': False,\n",
       "  'dull': False,\n",
       "  'minor': False,\n",
       "  'recently': False,\n",
       "  'hate': False,\n",
       "  'outside': False,\n",
       "  'plenty': False,\n",
       "  'wish': True,\n",
       "  'godzilla': False,\n",
       "  'college': True,\n",
       "  'titanic': False,\n",
       "  'sounds': False,\n",
       "  'telling': False,\n",
       "  'sight': False,\n",
       "  'double': False,\n",
       "  'cinematic': False,\n",
       "  'queen': False,\n",
       "  'hold': False,\n",
       "  'meanwhile': False,\n",
       "  'awful': False,\n",
       "  'clearly': False,\n",
       "  'theme': False,\n",
       "  'hear': False,\n",
       "  'x': False,\n",
       "  'amount': False,\n",
       "  'baby': False,\n",
       "  'approach': False,\n",
       "  'dreams': False,\n",
       "  'shown': False,\n",
       "  'island': False,\n",
       "  'reasons': False,\n",
       "  'charm': False,\n",
       "  'miss': False,\n",
       "  'longer': True,\n",
       "  'common': False,\n",
       "  'sean': False,\n",
       "  'carry': False,\n",
       "  'believable': False,\n",
       "  'realistic': False,\n",
       "  'chemistry': False,\n",
       "  'possibly': False,\n",
       "  'casting': False,\n",
       "  'carrey': False,\n",
       "  'french': False,\n",
       "  'trailer': False,\n",
       "  'tough': False,\n",
       "  'produced': False,\n",
       "  'imagine': False,\n",
       "  'choice': False,\n",
       "  'ride': False,\n",
       "  'somewhere': False,\n",
       "  'hot': False,\n",
       "  'race': False,\n",
       "  'road': False,\n",
       "  'leader': False,\n",
       "  'thin': False,\n",
       "  'jerry': False,\n",
       "  'slowly': False,\n",
       "  'delivers': False,\n",
       "  'detective': False,\n",
       "  'brown': False,\n",
       "  'jackson': False,\n",
       "  'member': False,\n",
       "  'provide': False,\n",
       "  'president': False,\n",
       "  'puts': False,\n",
       "  'asks': False,\n",
       "  'critics': False,\n",
       "  'appearance': False,\n",
       "  'famous': False,\n",
       "  'okay': False,\n",
       "  'intelligence': False,\n",
       "  'energy': False,\n",
       "  ...},\n",
       " 'neg')"
      ]
     },
     "execution_count": 55,
     "metadata": {},
     "output_type": "execute_result"
    }
   ],
   "source": [
    "featuresets[0]"
   ]
  },
  {
   "cell_type": "code",
   "execution_count": 56,
   "metadata": {
    "collapsed": true
   },
   "outputs": [],
   "source": [
    "training_set = featuresets[:1500]\n",
    "testing_set = featuresets[1500:]"
   ]
  },
  {
   "cell_type": "code",
   "execution_count": 57,
   "metadata": {
    "collapsed": true
   },
   "outputs": [],
   "source": [
    "classifier = nltk.NaiveBayesClassifier.train(training_set)"
   ]
  },
  {
   "cell_type": "code",
   "execution_count": 58,
   "metadata": {},
   "outputs": [
    {
     "data": {
      "text/plain": [
       "0.822"
      ]
     },
     "execution_count": 58,
     "metadata": {},
     "output_type": "execute_result"
    }
   ],
   "source": [
    "nltk.classify.accuracy(classifier, testing_set)"
   ]
  },
  {
   "cell_type": "code",
   "execution_count": 59,
   "metadata": {},
   "outputs": [
    {
     "name": "stdout",
     "output_type": "stream",
     "text": [
      "Most Informative Features\n",
      "             wonderfully = True              pos : neg    =      9.0 : 1.0\n",
      "             outstanding = True              pos : neg    =      8.5 : 1.0\n",
      "             beautifully = True              pos : neg    =      7.5 : 1.0\n",
      "                  finest = True              pos : neg    =      6.8 : 1.0\n",
      "                  alicia = True              neg : pos    =      6.6 : 1.0\n",
      "                   anger = True              pos : neg    =      6.4 : 1.0\n",
      "                   damon = True              pos : neg    =      6.2 : 1.0\n",
      "              schumacher = True              neg : pos    =      6.2 : 1.0\n",
      "                 idiotic = True              neg : pos    =      6.1 : 1.0\n",
      "              ridiculous = True              neg : pos    =      5.9 : 1.0\n",
      "                   awful = True              neg : pos    =      5.8 : 1.0\n",
      "              friendship = True              pos : neg    =      5.4 : 1.0\n",
      "                  seagal = True              neg : pos    =      5.4 : 1.0\n",
      "              delightful = True              pos : neg    =      5.3 : 1.0\n",
      "                   waste = True              neg : pos    =      5.3 : 1.0\n"
     ]
    }
   ],
   "source": [
    "classifier.show_most_informative_features(15)"
   ]
  },
  {
   "cell_type": "code",
   "execution_count": 62,
   "metadata": {
    "collapsed": true
   },
   "outputs": [],
   "source": [
    "from nltk.classify.scikitlearn import SklearnClassifier\n",
    "\n",
    "from sklearn.svm import SVC"
   ]
  },
  {
   "cell_type": "code",
   "execution_count": 64,
   "metadata": {},
   "outputs": [
    {
     "data": {
      "text/plain": [
       "0.766"
      ]
     },
     "execution_count": 64,
     "metadata": {},
     "output_type": "execute_result"
    }
   ],
   "source": [
    "SVC_classifier = SklearnClassifier(SVC())\n",
    "SVC_classifier.train(training_set)\n",
    "nltk.classify.accuracy(SVC_classifier, testing_set)"
   ]
  },
  {
   "cell_type": "code",
   "execution_count": null,
   "metadata": {
    "collapsed": true
   },
   "outputs": [],
   "source": [
    "import pickle"
   ]
  },
  {
   "cell_type": "code",
   "execution_count": null,
   "metadata": {
    "collapsed": true
   },
   "outputs": [],
   "source": [
    "save_classifier = open(\"naivebayes.pickle\", \"wb\")\n",
    "pickle.dump(classifier, save_classifier)\n",
    "save_classifier.close()"
   ]
  },
  {
   "cell_type": "code",
   "execution_count": null,
   "metadata": {
    "collapsed": true
   },
   "outputs": [],
   "source": [
    "classifier_new = open(\"naivebayes.pickle\", \"rb\")\n",
    "classifier = pickle.load(classifier_new)\n",
    "classifier_new.close()"
   ]
  },
  {
   "cell_type": "code",
   "execution_count": null,
   "metadata": {
    "collapsed": true
   },
   "outputs": [],
   "source": [
    "training_set=(\"the sky is blue.\",\"the sun is bright\")"
   ]
  },
  {
   "cell_type": "code",
   "execution_count": null,
   "metadata": {
    "collapsed": true
   },
   "outputs": [],
   "source": [
    "from sklearn.feature_extraction.text import CountVectorizer"
   ]
  },
  {
   "cell_type": "code",
   "execution_count": null,
   "metadata": {
    "collapsed": true
   },
   "outputs": [],
   "source": [
    "count_vec=CountVectorizer()"
   ]
  },
  {
   "cell_type": "code",
   "execution_count": null,
   "metadata": {},
   "outputs": [],
   "source": [
    "count_vec.fit_transform(training_set)"
   ]
  },
  {
   "cell_type": "code",
   "execution_count": null,
   "metadata": {},
   "outputs": [],
   "source": [
    "count_vec.get_feature_names()"
   ]
  },
  {
   "cell_type": "code",
   "execution_count": null,
   "metadata": {
    "collapsed": true
   },
   "outputs": [],
   "source": [
    "test_sen=(\"it is raining outside\",\"the sky is bright and blue\")\n"
   ]
  },
  {
   "cell_type": "code",
   "execution_count": null,
   "metadata": {
    "collapsed": true
   },
   "outputs": [],
   "source": []
  },
  {
   "cell_type": "code",
   "execution_count": null,
   "metadata": {
    "collapsed": true
   },
   "outputs": [],
   "source": [
    "freq_term=count_vec.transform(test_sen)"
   ]
  },
  {
   "cell_type": "code",
   "execution_count": null,
   "metadata": {},
   "outputs": [],
   "source": [
    "freq_term.todense()"
   ]
  },
  {
   "cell_type": "code",
   "execution_count": null,
   "metadata": {
    "collapsed": true
   },
   "outputs": [],
   "source": [
    "# in this we can directly use sklearn classifier"
   ]
  },
  {
   "cell_type": "code",
   "execution_count": null,
   "metadata": {
    "collapsed": true
   },
   "outputs": [],
   "source": [
    "reviews=[]\n",
    "categories=[]\n",
    "for (rev,category) in documents:\n",
    "    categories.append(category)\n",
    "    reviews.append(rev)\n",
    "    "
   ]
  },
  {
   "cell_type": "code",
   "execution_count": null,
   "metadata": {
    "collapsed": true
   },
   "outputs": [],
   "source": [
    "def get_simple_pos(tag):\n",
    "    if (tag.startswith('A')):\n",
    "        return wordnet.ADJ\n",
    "    elif (tag.startswith('V')):\n",
    "        return wordnet.VERB\n",
    "    else:\n",
    "        return wordnet.NOUN"
   ]
  },
  {
   "cell_type": "code",
   "execution_count": null,
   "metadata": {
    "collapsed": true
   },
   "outputs": [],
   "source": [
    "def clean_data(data):\n",
    "    meaningful_words=[]\n",
    "    for w in data:\n",
    "        if w.lower() not in stops :\n",
    "            #pos=pos_tag([w])\n",
    "            # print(pos)\n",
    "            # if get simple tag\n",
    "            n_word=lemmatizer.lemmatize(w,pos=get_simple_pos(pos[0][1]))\n",
    "            meaningful_words.append(n_word.lower())\n",
    "    return (\"\".join(meaningful_words))"
   ]
  },
  {
   "cell_type": "code",
   "execution_count": null,
   "metadata": {
    "collapsed": true
   },
   "outputs": [],
   "source": [
    "clean_review=clean_data(reviews[0])"
   ]
  },
  {
   "cell_type": "code",
   "execution_count": null,
   "metadata": {
    "collapsed": true
   },
   "outputs": [],
   "source": [
    "clean_reviews = [clean_data(review) for review in reviews]"
   ]
  },
  {
   "cell_type": "code",
   "execution_count": null,
   "metadata": {
    "collapsed": true
   },
   "outputs": [],
   "source": []
  },
  {
   "cell_type": "code",
   "execution_count": null,
   "metadata": {
    "collapsed": true
   },
   "outputs": [],
   "source": [
    "count_vec=CountVectorizer(analyzer='word',max_features=4500)"
   ]
  },
  {
   "cell_type": "code",
   "execution_count": null,
   "metadata": {},
   "outputs": [],
   "source": [
    "train_transfromed=count_vec.fit_transform(x_train,y_train)"
   ]
  }
 ],
 "metadata": {
  "anaconda-cloud": {},
  "kernelspec": {
   "display_name": "Python 3",
   "language": "python",
   "name": "python3"
  },
  "language_info": {
   "codemirror_mode": {
    "name": "ipython",
    "version": 3
   },
   "file_extension": ".py",
   "mimetype": "text/x-python",
   "name": "python",
   "nbconvert_exporter": "python",
   "pygments_lexer": "ipython3",
   "version": "3.6.1"
  }
 },
 "nbformat": 4,
 "nbformat_minor": 1
}
